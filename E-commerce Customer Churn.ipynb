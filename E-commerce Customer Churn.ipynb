{
 "cells": [
  {
   "cell_type": "code",
   "execution_count": 1,
   "id": "4e7e3693",
   "metadata": {},
   "outputs": [],
   "source": [
    "import pandas as pd\n",
    "import numpy as np\n",
    "import matplotlib.pyplot as plt\n",
    "import seaborn as sns"
   ]
  },
  {
   "cell_type": "code",
   "execution_count": 3,
   "id": "97c1a0e1",
   "metadata": {},
   "outputs": [],
   "source": [
    "df = pd.read_excel(\"C:/Users/Atul Pandey/Downloads/E Commerce Dataset.xlsx\", sheet_name= 'E Comm')"
   ]
  },
  {
   "cell_type": "code",
   "execution_count": 4,
   "id": "ca0aa534",
   "metadata": {},
   "outputs": [],
   "source": [
    "df = df.drop('CustomerID', axis = 1)"
   ]
  },
  {
   "cell_type": "code",
   "execution_count": 5,
   "id": "ad83725c",
   "metadata": {},
   "outputs": [
    {
     "data": {
      "text/html": [
       "<div>\n",
       "<style scoped>\n",
       "    .dataframe tbody tr th:only-of-type {\n",
       "        vertical-align: middle;\n",
       "    }\n",
       "\n",
       "    .dataframe tbody tr th {\n",
       "        vertical-align: top;\n",
       "    }\n",
       "\n",
       "    .dataframe thead th {\n",
       "        text-align: right;\n",
       "    }\n",
       "</style>\n",
       "<table border=\"1\" class=\"dataframe\">\n",
       "  <thead>\n",
       "    <tr style=\"text-align: right;\">\n",
       "      <th></th>\n",
       "      <th>Churn</th>\n",
       "      <th>Tenure</th>\n",
       "      <th>PreferredLoginDevice</th>\n",
       "      <th>CityTier</th>\n",
       "      <th>WarehouseToHome</th>\n",
       "      <th>PreferredPaymentMode</th>\n",
       "      <th>Gender</th>\n",
       "      <th>HourSpendOnApp</th>\n",
       "      <th>NumberOfDeviceRegistered</th>\n",
       "      <th>PreferedOrderCat</th>\n",
       "      <th>SatisfactionScore</th>\n",
       "      <th>MaritalStatus</th>\n",
       "      <th>NumberOfAddress</th>\n",
       "      <th>Complain</th>\n",
       "      <th>OrderAmountHikeFromlastYear</th>\n",
       "      <th>CouponUsed</th>\n",
       "      <th>OrderCount</th>\n",
       "      <th>DaySinceLastOrder</th>\n",
       "      <th>CashbackAmount</th>\n",
       "    </tr>\n",
       "  </thead>\n",
       "  <tbody>\n",
       "    <tr>\n",
       "      <th>0</th>\n",
       "      <td>1</td>\n",
       "      <td>4.0</td>\n",
       "      <td>Mobile Phone</td>\n",
       "      <td>3</td>\n",
       "      <td>6.0</td>\n",
       "      <td>Debit Card</td>\n",
       "      <td>Female</td>\n",
       "      <td>3.0</td>\n",
       "      <td>3</td>\n",
       "      <td>Laptop &amp; Accessory</td>\n",
       "      <td>2</td>\n",
       "      <td>Single</td>\n",
       "      <td>9</td>\n",
       "      <td>1</td>\n",
       "      <td>11.0</td>\n",
       "      <td>1.0</td>\n",
       "      <td>1.0</td>\n",
       "      <td>5.0</td>\n",
       "      <td>159.93</td>\n",
       "    </tr>\n",
       "    <tr>\n",
       "      <th>1</th>\n",
       "      <td>1</td>\n",
       "      <td>NaN</td>\n",
       "      <td>Phone</td>\n",
       "      <td>1</td>\n",
       "      <td>8.0</td>\n",
       "      <td>UPI</td>\n",
       "      <td>Male</td>\n",
       "      <td>3.0</td>\n",
       "      <td>4</td>\n",
       "      <td>Mobile</td>\n",
       "      <td>3</td>\n",
       "      <td>Single</td>\n",
       "      <td>7</td>\n",
       "      <td>1</td>\n",
       "      <td>15.0</td>\n",
       "      <td>0.0</td>\n",
       "      <td>1.0</td>\n",
       "      <td>0.0</td>\n",
       "      <td>120.90</td>\n",
       "    </tr>\n",
       "    <tr>\n",
       "      <th>2</th>\n",
       "      <td>1</td>\n",
       "      <td>NaN</td>\n",
       "      <td>Phone</td>\n",
       "      <td>1</td>\n",
       "      <td>30.0</td>\n",
       "      <td>Debit Card</td>\n",
       "      <td>Male</td>\n",
       "      <td>2.0</td>\n",
       "      <td>4</td>\n",
       "      <td>Mobile</td>\n",
       "      <td>3</td>\n",
       "      <td>Single</td>\n",
       "      <td>6</td>\n",
       "      <td>1</td>\n",
       "      <td>14.0</td>\n",
       "      <td>0.0</td>\n",
       "      <td>1.0</td>\n",
       "      <td>3.0</td>\n",
       "      <td>120.28</td>\n",
       "    </tr>\n",
       "    <tr>\n",
       "      <th>3</th>\n",
       "      <td>1</td>\n",
       "      <td>0.0</td>\n",
       "      <td>Phone</td>\n",
       "      <td>3</td>\n",
       "      <td>15.0</td>\n",
       "      <td>Debit Card</td>\n",
       "      <td>Male</td>\n",
       "      <td>2.0</td>\n",
       "      <td>4</td>\n",
       "      <td>Laptop &amp; Accessory</td>\n",
       "      <td>5</td>\n",
       "      <td>Single</td>\n",
       "      <td>8</td>\n",
       "      <td>0</td>\n",
       "      <td>23.0</td>\n",
       "      <td>0.0</td>\n",
       "      <td>1.0</td>\n",
       "      <td>3.0</td>\n",
       "      <td>134.07</td>\n",
       "    </tr>\n",
       "    <tr>\n",
       "      <th>4</th>\n",
       "      <td>1</td>\n",
       "      <td>0.0</td>\n",
       "      <td>Phone</td>\n",
       "      <td>1</td>\n",
       "      <td>12.0</td>\n",
       "      <td>CC</td>\n",
       "      <td>Male</td>\n",
       "      <td>NaN</td>\n",
       "      <td>3</td>\n",
       "      <td>Mobile</td>\n",
       "      <td>5</td>\n",
       "      <td>Single</td>\n",
       "      <td>3</td>\n",
       "      <td>0</td>\n",
       "      <td>11.0</td>\n",
       "      <td>1.0</td>\n",
       "      <td>1.0</td>\n",
       "      <td>3.0</td>\n",
       "      <td>129.60</td>\n",
       "    </tr>\n",
       "  </tbody>\n",
       "</table>\n",
       "</div>"
      ],
      "text/plain": [
       "   Churn  Tenure PreferredLoginDevice  CityTier  WarehouseToHome  \\\n",
       "0      1     4.0         Mobile Phone         3              6.0   \n",
       "1      1     NaN                Phone         1              8.0   \n",
       "2      1     NaN                Phone         1             30.0   \n",
       "3      1     0.0                Phone         3             15.0   \n",
       "4      1     0.0                Phone         1             12.0   \n",
       "\n",
       "  PreferredPaymentMode  Gender  HourSpendOnApp  NumberOfDeviceRegistered  \\\n",
       "0           Debit Card  Female             3.0                         3   \n",
       "1                  UPI    Male             3.0                         4   \n",
       "2           Debit Card    Male             2.0                         4   \n",
       "3           Debit Card    Male             2.0                         4   \n",
       "4                   CC    Male             NaN                         3   \n",
       "\n",
       "     PreferedOrderCat  SatisfactionScore MaritalStatus  NumberOfAddress  \\\n",
       "0  Laptop & Accessory                  2        Single                9   \n",
       "1              Mobile                  3        Single                7   \n",
       "2              Mobile                  3        Single                6   \n",
       "3  Laptop & Accessory                  5        Single                8   \n",
       "4              Mobile                  5        Single                3   \n",
       "\n",
       "   Complain  OrderAmountHikeFromlastYear  CouponUsed  OrderCount  \\\n",
       "0         1                         11.0         1.0         1.0   \n",
       "1         1                         15.0         0.0         1.0   \n",
       "2         1                         14.0         0.0         1.0   \n",
       "3         0                         23.0         0.0         1.0   \n",
       "4         0                         11.0         1.0         1.0   \n",
       "\n",
       "   DaySinceLastOrder  CashbackAmount  \n",
       "0                5.0          159.93  \n",
       "1                0.0          120.90  \n",
       "2                3.0          120.28  \n",
       "3                3.0          134.07  \n",
       "4                3.0          129.60  "
      ]
     },
     "execution_count": 5,
     "metadata": {},
     "output_type": "execute_result"
    }
   ],
   "source": [
    "df.head()"
   ]
  },
  {
   "cell_type": "code",
   "execution_count": 6,
   "id": "f224f358",
   "metadata": {},
   "outputs": [
    {
     "name": "stdout",
     "output_type": "stream",
     "text": [
      "<class 'pandas.core.frame.DataFrame'>\n",
      "RangeIndex: 5630 entries, 0 to 5629\n",
      "Data columns (total 19 columns):\n",
      " #   Column                       Non-Null Count  Dtype  \n",
      "---  ------                       --------------  -----  \n",
      " 0   Churn                        5630 non-null   int64  \n",
      " 1   Tenure                       5366 non-null   float64\n",
      " 2   PreferredLoginDevice         5630 non-null   object \n",
      " 3   CityTier                     5630 non-null   int64  \n",
      " 4   WarehouseToHome              5379 non-null   float64\n",
      " 5   PreferredPaymentMode         5630 non-null   object \n",
      " 6   Gender                       5630 non-null   object \n",
      " 7   HourSpendOnApp               5375 non-null   float64\n",
      " 8   NumberOfDeviceRegistered     5630 non-null   int64  \n",
      " 9   PreferedOrderCat             5630 non-null   object \n",
      " 10  SatisfactionScore            5630 non-null   int64  \n",
      " 11  MaritalStatus                5630 non-null   object \n",
      " 12  NumberOfAddress              5630 non-null   int64  \n",
      " 13  Complain                     5630 non-null   int64  \n",
      " 14  OrderAmountHikeFromlastYear  5365 non-null   float64\n",
      " 15  CouponUsed                   5374 non-null   float64\n",
      " 16  OrderCount                   5372 non-null   float64\n",
      " 17  DaySinceLastOrder            5323 non-null   float64\n",
      " 18  CashbackAmount               5630 non-null   float64\n",
      "dtypes: float64(8), int64(6), object(5)\n",
      "memory usage: 835.8+ KB\n"
     ]
    }
   ],
   "source": [
    "df.info()"
   ]
  },
  {
   "cell_type": "markdown",
   "id": "6635f841",
   "metadata": {},
   "source": [
    "# Handling missing values"
   ]
  },
  {
   "cell_type": "code",
   "execution_count": 7,
   "id": "ac01748f",
   "metadata": {},
   "outputs": [
    {
     "data": {
      "text/plain": [
       "Churn                            0\n",
       "Tenure                         264\n",
       "PreferredLoginDevice             0\n",
       "CityTier                         0\n",
       "WarehouseToHome                251\n",
       "PreferredPaymentMode             0\n",
       "Gender                           0\n",
       "HourSpendOnApp                 255\n",
       "NumberOfDeviceRegistered         0\n",
       "PreferedOrderCat                 0\n",
       "SatisfactionScore                0\n",
       "MaritalStatus                    0\n",
       "NumberOfAddress                  0\n",
       "Complain                         0\n",
       "OrderAmountHikeFromlastYear    265\n",
       "CouponUsed                     256\n",
       "OrderCount                     258\n",
       "DaySinceLastOrder              307\n",
       "CashbackAmount                   0\n",
       "dtype: int64"
      ]
     },
     "execution_count": 7,
     "metadata": {},
     "output_type": "execute_result"
    }
   ],
   "source": [
    "df.isnull().sum()"
   ]
  },
  {
   "cell_type": "code",
   "execution_count": 8,
   "id": "b467d662",
   "metadata": {},
   "outputs": [
    {
     "data": {
      "text/html": [
       "<div>\n",
       "<style scoped>\n",
       "    .dataframe tbody tr th:only-of-type {\n",
       "        vertical-align: middle;\n",
       "    }\n",
       "\n",
       "    .dataframe tbody tr th {\n",
       "        vertical-align: top;\n",
       "    }\n",
       "\n",
       "    .dataframe thead th {\n",
       "        text-align: right;\n",
       "    }\n",
       "</style>\n",
       "<table border=\"1\" class=\"dataframe\">\n",
       "  <thead>\n",
       "    <tr style=\"text-align: right;\">\n",
       "      <th></th>\n",
       "      <th>Churn</th>\n",
       "      <th>Tenure</th>\n",
       "      <th>CityTier</th>\n",
       "      <th>WarehouseToHome</th>\n",
       "      <th>HourSpendOnApp</th>\n",
       "      <th>NumberOfDeviceRegistered</th>\n",
       "      <th>SatisfactionScore</th>\n",
       "      <th>NumberOfAddress</th>\n",
       "      <th>Complain</th>\n",
       "      <th>OrderAmountHikeFromlastYear</th>\n",
       "      <th>CouponUsed</th>\n",
       "      <th>OrderCount</th>\n",
       "      <th>DaySinceLastOrder</th>\n",
       "      <th>CashbackAmount</th>\n",
       "    </tr>\n",
       "  </thead>\n",
       "  <tbody>\n",
       "    <tr>\n",
       "      <th>count</th>\n",
       "      <td>5630.000000</td>\n",
       "      <td>5366.000000</td>\n",
       "      <td>5630.000000</td>\n",
       "      <td>5379.000000</td>\n",
       "      <td>5375.000000</td>\n",
       "      <td>5630.000000</td>\n",
       "      <td>5630.000000</td>\n",
       "      <td>5630.000000</td>\n",
       "      <td>5630.000000</td>\n",
       "      <td>5365.000000</td>\n",
       "      <td>5374.000000</td>\n",
       "      <td>5372.000000</td>\n",
       "      <td>5323.000000</td>\n",
       "      <td>5630.000000</td>\n",
       "    </tr>\n",
       "    <tr>\n",
       "      <th>mean</th>\n",
       "      <td>0.168384</td>\n",
       "      <td>10.189899</td>\n",
       "      <td>1.654707</td>\n",
       "      <td>15.639896</td>\n",
       "      <td>2.931535</td>\n",
       "      <td>3.688988</td>\n",
       "      <td>3.066785</td>\n",
       "      <td>4.214032</td>\n",
       "      <td>0.284902</td>\n",
       "      <td>15.707922</td>\n",
       "      <td>1.751023</td>\n",
       "      <td>3.008004</td>\n",
       "      <td>4.543491</td>\n",
       "      <td>177.223030</td>\n",
       "    </tr>\n",
       "    <tr>\n",
       "      <th>std</th>\n",
       "      <td>0.374240</td>\n",
       "      <td>8.557241</td>\n",
       "      <td>0.915389</td>\n",
       "      <td>8.531475</td>\n",
       "      <td>0.721926</td>\n",
       "      <td>1.023999</td>\n",
       "      <td>1.380194</td>\n",
       "      <td>2.583586</td>\n",
       "      <td>0.451408</td>\n",
       "      <td>3.675485</td>\n",
       "      <td>1.894621</td>\n",
       "      <td>2.939680</td>\n",
       "      <td>3.654433</td>\n",
       "      <td>49.207036</td>\n",
       "    </tr>\n",
       "    <tr>\n",
       "      <th>min</th>\n",
       "      <td>0.000000</td>\n",
       "      <td>0.000000</td>\n",
       "      <td>1.000000</td>\n",
       "      <td>5.000000</td>\n",
       "      <td>0.000000</td>\n",
       "      <td>1.000000</td>\n",
       "      <td>1.000000</td>\n",
       "      <td>1.000000</td>\n",
       "      <td>0.000000</td>\n",
       "      <td>11.000000</td>\n",
       "      <td>0.000000</td>\n",
       "      <td>1.000000</td>\n",
       "      <td>0.000000</td>\n",
       "      <td>0.000000</td>\n",
       "    </tr>\n",
       "    <tr>\n",
       "      <th>25%</th>\n",
       "      <td>0.000000</td>\n",
       "      <td>2.000000</td>\n",
       "      <td>1.000000</td>\n",
       "      <td>9.000000</td>\n",
       "      <td>2.000000</td>\n",
       "      <td>3.000000</td>\n",
       "      <td>2.000000</td>\n",
       "      <td>2.000000</td>\n",
       "      <td>0.000000</td>\n",
       "      <td>13.000000</td>\n",
       "      <td>1.000000</td>\n",
       "      <td>1.000000</td>\n",
       "      <td>2.000000</td>\n",
       "      <td>145.770000</td>\n",
       "    </tr>\n",
       "    <tr>\n",
       "      <th>50%</th>\n",
       "      <td>0.000000</td>\n",
       "      <td>9.000000</td>\n",
       "      <td>1.000000</td>\n",
       "      <td>14.000000</td>\n",
       "      <td>3.000000</td>\n",
       "      <td>4.000000</td>\n",
       "      <td>3.000000</td>\n",
       "      <td>3.000000</td>\n",
       "      <td>0.000000</td>\n",
       "      <td>15.000000</td>\n",
       "      <td>1.000000</td>\n",
       "      <td>2.000000</td>\n",
       "      <td>3.000000</td>\n",
       "      <td>163.280000</td>\n",
       "    </tr>\n",
       "    <tr>\n",
       "      <th>75%</th>\n",
       "      <td>0.000000</td>\n",
       "      <td>16.000000</td>\n",
       "      <td>3.000000</td>\n",
       "      <td>20.000000</td>\n",
       "      <td>3.000000</td>\n",
       "      <td>4.000000</td>\n",
       "      <td>4.000000</td>\n",
       "      <td>6.000000</td>\n",
       "      <td>1.000000</td>\n",
       "      <td>18.000000</td>\n",
       "      <td>2.000000</td>\n",
       "      <td>3.000000</td>\n",
       "      <td>7.000000</td>\n",
       "      <td>196.392500</td>\n",
       "    </tr>\n",
       "    <tr>\n",
       "      <th>max</th>\n",
       "      <td>1.000000</td>\n",
       "      <td>61.000000</td>\n",
       "      <td>3.000000</td>\n",
       "      <td>127.000000</td>\n",
       "      <td>5.000000</td>\n",
       "      <td>6.000000</td>\n",
       "      <td>5.000000</td>\n",
       "      <td>22.000000</td>\n",
       "      <td>1.000000</td>\n",
       "      <td>26.000000</td>\n",
       "      <td>16.000000</td>\n",
       "      <td>16.000000</td>\n",
       "      <td>46.000000</td>\n",
       "      <td>324.990000</td>\n",
       "    </tr>\n",
       "  </tbody>\n",
       "</table>\n",
       "</div>"
      ],
      "text/plain": [
       "             Churn       Tenure     CityTier  WarehouseToHome  HourSpendOnApp  \\\n",
       "count  5630.000000  5366.000000  5630.000000      5379.000000     5375.000000   \n",
       "mean      0.168384    10.189899     1.654707        15.639896        2.931535   \n",
       "std       0.374240     8.557241     0.915389         8.531475        0.721926   \n",
       "min       0.000000     0.000000     1.000000         5.000000        0.000000   \n",
       "25%       0.000000     2.000000     1.000000         9.000000        2.000000   \n",
       "50%       0.000000     9.000000     1.000000        14.000000        3.000000   \n",
       "75%       0.000000    16.000000     3.000000        20.000000        3.000000   \n",
       "max       1.000000    61.000000     3.000000       127.000000        5.000000   \n",
       "\n",
       "       NumberOfDeviceRegistered  SatisfactionScore  NumberOfAddress  \\\n",
       "count               5630.000000        5630.000000      5630.000000   \n",
       "mean                   3.688988           3.066785         4.214032   \n",
       "std                    1.023999           1.380194         2.583586   \n",
       "min                    1.000000           1.000000         1.000000   \n",
       "25%                    3.000000           2.000000         2.000000   \n",
       "50%                    4.000000           3.000000         3.000000   \n",
       "75%                    4.000000           4.000000         6.000000   \n",
       "max                    6.000000           5.000000        22.000000   \n",
       "\n",
       "          Complain  OrderAmountHikeFromlastYear   CouponUsed   OrderCount  \\\n",
       "count  5630.000000                  5365.000000  5374.000000  5372.000000   \n",
       "mean      0.284902                    15.707922     1.751023     3.008004   \n",
       "std       0.451408                     3.675485     1.894621     2.939680   \n",
       "min       0.000000                    11.000000     0.000000     1.000000   \n",
       "25%       0.000000                    13.000000     1.000000     1.000000   \n",
       "50%       0.000000                    15.000000     1.000000     2.000000   \n",
       "75%       1.000000                    18.000000     2.000000     3.000000   \n",
       "max       1.000000                    26.000000    16.000000    16.000000   \n",
       "\n",
       "       DaySinceLastOrder  CashbackAmount  \n",
       "count        5323.000000     5630.000000  \n",
       "mean            4.543491      177.223030  \n",
       "std             3.654433       49.207036  \n",
       "min             0.000000        0.000000  \n",
       "25%             2.000000      145.770000  \n",
       "50%             3.000000      163.280000  \n",
       "75%             7.000000      196.392500  \n",
       "max            46.000000      324.990000  "
      ]
     },
     "execution_count": 8,
     "metadata": {},
     "output_type": "execute_result"
    }
   ],
   "source": [
    "df.describe()"
   ]
  },
  {
   "cell_type": "code",
   "execution_count": 9,
   "id": "8c626c6f",
   "metadata": {},
   "outputs": [],
   "source": [
    "df['Tenure']=df['Tenure'].fillna(df['Tenure'].mean()) #Replacing with mean"
   ]
  },
  {
   "cell_type": "code",
   "execution_count": 10,
   "id": "1e0e72b2",
   "metadata": {},
   "outputs": [
    {
     "data": {
      "text/html": [
       "<div>\n",
       "<style scoped>\n",
       "    .dataframe tbody tr th:only-of-type {\n",
       "        vertical-align: middle;\n",
       "    }\n",
       "\n",
       "    .dataframe tbody tr th {\n",
       "        vertical-align: top;\n",
       "    }\n",
       "\n",
       "    .dataframe thead th {\n",
       "        text-align: right;\n",
       "    }\n",
       "</style>\n",
       "<table border=\"1\" class=\"dataframe\">\n",
       "  <thead>\n",
       "    <tr style=\"text-align: right;\">\n",
       "      <th></th>\n",
       "      <th>Churn</th>\n",
       "      <th>Tenure</th>\n",
       "      <th>PreferredLoginDevice</th>\n",
       "      <th>CityTier</th>\n",
       "      <th>WarehouseToHome</th>\n",
       "      <th>PreferredPaymentMode</th>\n",
       "      <th>Gender</th>\n",
       "      <th>HourSpendOnApp</th>\n",
       "      <th>NumberOfDeviceRegistered</th>\n",
       "      <th>PreferedOrderCat</th>\n",
       "      <th>SatisfactionScore</th>\n",
       "      <th>MaritalStatus</th>\n",
       "      <th>NumberOfAddress</th>\n",
       "      <th>Complain</th>\n",
       "      <th>OrderAmountHikeFromlastYear</th>\n",
       "      <th>CouponUsed</th>\n",
       "      <th>OrderCount</th>\n",
       "      <th>DaySinceLastOrder</th>\n",
       "      <th>CashbackAmount</th>\n",
       "    </tr>\n",
       "  </thead>\n",
       "  <tbody>\n",
       "    <tr>\n",
       "      <th>0</th>\n",
       "      <td>1</td>\n",
       "      <td>4.000000</td>\n",
       "      <td>Mobile Phone</td>\n",
       "      <td>3</td>\n",
       "      <td>6.0</td>\n",
       "      <td>Debit Card</td>\n",
       "      <td>Female</td>\n",
       "      <td>3.0</td>\n",
       "      <td>3</td>\n",
       "      <td>Laptop &amp; Accessory</td>\n",
       "      <td>2</td>\n",
       "      <td>Single</td>\n",
       "      <td>9</td>\n",
       "      <td>1</td>\n",
       "      <td>11.0</td>\n",
       "      <td>1.0</td>\n",
       "      <td>1.0</td>\n",
       "      <td>5.0</td>\n",
       "      <td>159.93</td>\n",
       "    </tr>\n",
       "    <tr>\n",
       "      <th>1</th>\n",
       "      <td>1</td>\n",
       "      <td>10.189899</td>\n",
       "      <td>Phone</td>\n",
       "      <td>1</td>\n",
       "      <td>8.0</td>\n",
       "      <td>UPI</td>\n",
       "      <td>Male</td>\n",
       "      <td>3.0</td>\n",
       "      <td>4</td>\n",
       "      <td>Mobile</td>\n",
       "      <td>3</td>\n",
       "      <td>Single</td>\n",
       "      <td>7</td>\n",
       "      <td>1</td>\n",
       "      <td>15.0</td>\n",
       "      <td>0.0</td>\n",
       "      <td>1.0</td>\n",
       "      <td>0.0</td>\n",
       "      <td>120.90</td>\n",
       "    </tr>\n",
       "    <tr>\n",
       "      <th>2</th>\n",
       "      <td>1</td>\n",
       "      <td>10.189899</td>\n",
       "      <td>Phone</td>\n",
       "      <td>1</td>\n",
       "      <td>30.0</td>\n",
       "      <td>Debit Card</td>\n",
       "      <td>Male</td>\n",
       "      <td>2.0</td>\n",
       "      <td>4</td>\n",
       "      <td>Mobile</td>\n",
       "      <td>3</td>\n",
       "      <td>Single</td>\n",
       "      <td>6</td>\n",
       "      <td>1</td>\n",
       "      <td>14.0</td>\n",
       "      <td>0.0</td>\n",
       "      <td>1.0</td>\n",
       "      <td>3.0</td>\n",
       "      <td>120.28</td>\n",
       "    </tr>\n",
       "    <tr>\n",
       "      <th>3</th>\n",
       "      <td>1</td>\n",
       "      <td>0.000000</td>\n",
       "      <td>Phone</td>\n",
       "      <td>3</td>\n",
       "      <td>15.0</td>\n",
       "      <td>Debit Card</td>\n",
       "      <td>Male</td>\n",
       "      <td>2.0</td>\n",
       "      <td>4</td>\n",
       "      <td>Laptop &amp; Accessory</td>\n",
       "      <td>5</td>\n",
       "      <td>Single</td>\n",
       "      <td>8</td>\n",
       "      <td>0</td>\n",
       "      <td>23.0</td>\n",
       "      <td>0.0</td>\n",
       "      <td>1.0</td>\n",
       "      <td>3.0</td>\n",
       "      <td>134.07</td>\n",
       "    </tr>\n",
       "    <tr>\n",
       "      <th>4</th>\n",
       "      <td>1</td>\n",
       "      <td>0.000000</td>\n",
       "      <td>Phone</td>\n",
       "      <td>1</td>\n",
       "      <td>12.0</td>\n",
       "      <td>CC</td>\n",
       "      <td>Male</td>\n",
       "      <td>NaN</td>\n",
       "      <td>3</td>\n",
       "      <td>Mobile</td>\n",
       "      <td>5</td>\n",
       "      <td>Single</td>\n",
       "      <td>3</td>\n",
       "      <td>0</td>\n",
       "      <td>11.0</td>\n",
       "      <td>1.0</td>\n",
       "      <td>1.0</td>\n",
       "      <td>3.0</td>\n",
       "      <td>129.60</td>\n",
       "    </tr>\n",
       "  </tbody>\n",
       "</table>\n",
       "</div>"
      ],
      "text/plain": [
       "   Churn     Tenure PreferredLoginDevice  CityTier  WarehouseToHome  \\\n",
       "0      1   4.000000         Mobile Phone         3              6.0   \n",
       "1      1  10.189899                Phone         1              8.0   \n",
       "2      1  10.189899                Phone         1             30.0   \n",
       "3      1   0.000000                Phone         3             15.0   \n",
       "4      1   0.000000                Phone         1             12.0   \n",
       "\n",
       "  PreferredPaymentMode  Gender  HourSpendOnApp  NumberOfDeviceRegistered  \\\n",
       "0           Debit Card  Female             3.0                         3   \n",
       "1                  UPI    Male             3.0                         4   \n",
       "2           Debit Card    Male             2.0                         4   \n",
       "3           Debit Card    Male             2.0                         4   \n",
       "4                   CC    Male             NaN                         3   \n",
       "\n",
       "     PreferedOrderCat  SatisfactionScore MaritalStatus  NumberOfAddress  \\\n",
       "0  Laptop & Accessory                  2        Single                9   \n",
       "1              Mobile                  3        Single                7   \n",
       "2              Mobile                  3        Single                6   \n",
       "3  Laptop & Accessory                  5        Single                8   \n",
       "4              Mobile                  5        Single                3   \n",
       "\n",
       "   Complain  OrderAmountHikeFromlastYear  CouponUsed  OrderCount  \\\n",
       "0         1                         11.0         1.0         1.0   \n",
       "1         1                         15.0         0.0         1.0   \n",
       "2         1                         14.0         0.0         1.0   \n",
       "3         0                         23.0         0.0         1.0   \n",
       "4         0                         11.0         1.0         1.0   \n",
       "\n",
       "   DaySinceLastOrder  CashbackAmount  \n",
       "0                5.0          159.93  \n",
       "1                0.0          120.90  \n",
       "2                3.0          120.28  \n",
       "3                3.0          134.07  \n",
       "4                3.0          129.60  "
      ]
     },
     "execution_count": 10,
     "metadata": {},
     "output_type": "execute_result"
    }
   ],
   "source": [
    "df.head(5)"
   ]
  },
  {
   "cell_type": "code",
   "execution_count": 11,
   "id": "8975fcd1",
   "metadata": {},
   "outputs": [
    {
     "data": {
      "text/plain": [
       "Churn                          243\n",
       "Tenure                         243\n",
       "PreferredLoginDevice           243\n",
       "CityTier                       243\n",
       "WarehouseToHome                  0\n",
       "PreferredPaymentMode           243\n",
       "Gender                         243\n",
       "HourSpendOnApp                 243\n",
       "NumberOfDeviceRegistered       243\n",
       "PreferedOrderCat               243\n",
       "SatisfactionScore              243\n",
       "MaritalStatus                  243\n",
       "NumberOfAddress                243\n",
       "Complain                       243\n",
       "OrderAmountHikeFromlastYear    243\n",
       "CouponUsed                     243\n",
       "OrderCount                     243\n",
       "DaySinceLastOrder              243\n",
       "CashbackAmount                 243\n",
       "dtype: int64"
      ]
     },
     "execution_count": 11,
     "metadata": {},
     "output_type": "execute_result"
    }
   ],
   "source": [
    "#We can see that out of 251 missing value, 243 warehousetohome is missing when city tier is 1.\n",
    "#Hence this situation comes under MAR\n",
    "df[df['WarehouseToHome'].isnull() & df['CityTier']==1].count()"
   ]
  },
  {
   "cell_type": "code",
   "execution_count": 12,
   "id": "2e066c6d",
   "metadata": {},
   "outputs": [
    {
     "data": {
      "text/plain": [
       "13.0"
      ]
     },
     "execution_count": 12,
     "metadata": {},
     "output_type": "execute_result"
    }
   ],
   "source": [
    "df['WarehouseToHome'][df['CityTier']==1].median()"
   ]
  },
  {
   "cell_type": "code",
   "execution_count": 13,
   "id": "05836c7b",
   "metadata": {},
   "outputs": [],
   "source": [
    "#Replacing NAN with median of warehousetohome where city is 1\n",
    "df['WarehouseToHome'] = df['WarehouseToHome'].fillna(df['WarehouseToHome'][df['CityTier']==1].median())"
   ]
  },
  {
   "cell_type": "code",
   "execution_count": 14,
   "id": "4dfe8ce8",
   "metadata": {},
   "outputs": [
    {
     "data": {
      "text/plain": [
       "<AxesSubplot:>"
      ]
     },
     "execution_count": 14,
     "metadata": {},
     "output_type": "execute_result"
    },
    {
     "data": {
      "image/png": "[encoded data removed]",
      "text/plain": [
       "<Figure size 432x288 with 2 Axes>"
      ]
     },
     "metadata": {
      "needs_background": "light"
     },
     "output_type": "display_data"
    }
   ],
   "source": [
    "sns.heatmap(df.corr())"
   ]
  },
  {
   "cell_type": "code",
   "execution_count": 15,
   "id": "b18f9fa6",
   "metadata": {},
   "outputs": [],
   "source": [
    "mask = df['HourSpendOnApp'].isnull()"
   ]
  },
  {
   "cell_type": "code",
   "execution_count": 16,
   "id": "7429b796",
   "metadata": {},
   "outputs": [
    {
     "name": "stdout",
     "output_type": "stream",
     "text": [
      "For Satisfaction Score  1  missing values associated with Hour spend on app is 54\n",
      "For Satisfaction Score  2  missing values associated with Hour spend on app is 27\n",
      "For Satisfaction Score  3  missing values associated with Hour spend on app is 83\n",
      "For Satisfaction Score  4  missing values associated with Hour spend on app is 47\n",
      "For Satisfaction Score  5  missing values associated with Hour spend on app is 44\n"
     ]
    },
    {
     "name": "stderr",
     "output_type": "stream",
     "text": [
      "C:\\Users\\ATULPA~1\\AppData\\Local\\Temp/ipykernel_6256/1895069724.py:2: UserWarning: Boolean Series key will be reindexed to match DataFrame index.\n",
      "  print(\"For Satisfaction Score \",i, \" missing values associated with Hour spend on app is\",df[df['SatisfactionScore']==i][mask].count()[11])\n"
     ]
    }
   ],
   "source": [
    "for i in range(1,6):\n",
    "    print(\"For Satisfaction Score \",i, \" missing values associated with Hour spend on app is\",df[df['SatisfactionScore']==i][mask].count()[11])"
   ]
  },
  {
   "cell_type": "markdown",
   "id": "adcbee04",
   "metadata": {},
   "source": [
    "From above we can see that the satisfaction score is not prime contributor towards the missing Hour spend on app."
   ]
  },
  {
   "cell_type": "code",
   "execution_count": 17,
   "id": "be3f24cd",
   "metadata": {},
   "outputs": [],
   "source": [
    "df['HourSpendOnApp'] = df['HourSpendOnApp'].fillna(df['HourSpendOnApp'].median())"
   ]
  },
  {
   "cell_type": "code",
   "execution_count": 18,
   "id": "68410051",
   "metadata": {},
   "outputs": [],
   "source": [
    "df['OrderAmountHikeFromlastYear'] = df['OrderAmountHikeFromlastYear'].fillna(df['OrderAmountHikeFromlastYear'].median())"
   ]
  },
  {
   "cell_type": "code",
   "execution_count": 19,
   "id": "726480e9",
   "metadata": {},
   "outputs": [],
   "source": [
    "def filling_missing(d):\n",
    "    return df[d].fillna(df[d].median())"
   ]
  },
  {
   "cell_type": "code",
   "execution_count": 20,
   "id": "b355227a",
   "metadata": {},
   "outputs": [],
   "source": [
    "df['CouponUsed'] = filling_missing('CouponUsed')\n",
    "df['OrderCount'] = filling_missing('OrderCount')\n",
    "df['DaySinceLastOrder'] = filling_missing('DaySinceLastOrder')"
   ]
  },
  {
   "cell_type": "code",
   "execution_count": 21,
   "id": "b92b6526",
   "metadata": {},
   "outputs": [
    {
     "data": {
      "text/plain": [
       "Churn                          0\n",
       "Tenure                         0\n",
       "PreferredLoginDevice           0\n",
       "CityTier                       0\n",
       "WarehouseToHome                0\n",
       "PreferredPaymentMode           0\n",
       "Gender                         0\n",
       "HourSpendOnApp                 0\n",
       "NumberOfDeviceRegistered       0\n",
       "PreferedOrderCat               0\n",
       "SatisfactionScore              0\n",
       "MaritalStatus                  0\n",
       "NumberOfAddress                0\n",
       "Complain                       0\n",
       "OrderAmountHikeFromlastYear    0\n",
       "CouponUsed                     0\n",
       "OrderCount                     0\n",
       "DaySinceLastOrder              0\n",
       "CashbackAmount                 0\n",
       "dtype: int64"
      ]
     },
     "execution_count": 21,
     "metadata": {},
     "output_type": "execute_result"
    }
   ],
   "source": [
    "df.isnull().sum()"
   ]
  },
  {
   "cell_type": "markdown",
   "id": "971aa647",
   "metadata": {},
   "source": [
    "# Removing Outlier"
   ]
  },
  {
   "cell_type": "code",
   "execution_count": 22,
   "id": "d102d719",
   "metadata": {},
   "outputs": [],
   "source": [
    "def remove_outlier(d):\n",
    "    Q1 = df[d].quantile(0.25)\n",
    "    Q3 = df[d].quantile(0.75)\n",
    "    IQR = Q3 - Q1\n",
    "    upper = Q3 + 1.5 * IQR\n",
    "    lower = Q1 - 1.5 * IQR\n",
    "    df[d] = np.where(df[d]>upper,upper,df[d])\n",
    "    df[d] = np.where(df[d]<lower,lower,df[d])"
   ]
  },
  {
   "cell_type": "code",
   "execution_count": 23,
   "id": "ee0f74ac",
   "metadata": {},
   "outputs": [],
   "source": [
    "for i in df.columns[1:]:\n",
    "    if df[i].dtype in ('int64', 'float64'):\n",
    "        remove_outlier(i)\n",
    "    else:\n",
    "        pass"
   ]
  },
  {
   "cell_type": "code",
   "execution_count": 24,
   "id": "f61bbb4b",
   "metadata": {},
   "outputs": [
    {
     "data": {
      "text/plain": [
       "<AxesSubplot:>"
      ]
     },
     "execution_count": 24,
     "metadata": {},
     "output_type": "execute_result"
    },
    {
     "data": {
      "image/png": "[encoded data removed]",
      "text/plain": [
       "<Figure size 360x360 with 1 Axes>"
      ]
     },
     "metadata": {
      "needs_background": "light"
     },
     "output_type": "display_data"
    }
   ],
   "source": [
    "plt.figure(figsize=(5,5))\n",
    "sns.boxplot(data = df['NumberOfDeviceRegistered'])"
   ]
  },
  {
   "cell_type": "code",
   "execution_count": 25,
   "id": "8c4bb76e",
   "metadata": {},
   "outputs": [
    {
     "data": {
      "text/html": [
       "<div>\n",
       "<style scoped>\n",
       "    .dataframe tbody tr th:only-of-type {\n",
       "        vertical-align: middle;\n",
       "    }\n",
       "\n",
       "    .dataframe tbody tr th {\n",
       "        vertical-align: top;\n",
       "    }\n",
       "\n",
       "    .dataframe thead th {\n",
       "        text-align: right;\n",
       "    }\n",
       "</style>\n",
       "<table border=\"1\" class=\"dataframe\">\n",
       "  <thead>\n",
       "    <tr style=\"text-align: right;\">\n",
       "      <th></th>\n",
       "      <th>Churn</th>\n",
       "      <th>Tenure</th>\n",
       "      <th>CityTier</th>\n",
       "      <th>WarehouseToHome</th>\n",
       "      <th>HourSpendOnApp</th>\n",
       "      <th>NumberOfDeviceRegistered</th>\n",
       "      <th>SatisfactionScore</th>\n",
       "      <th>NumberOfAddress</th>\n",
       "      <th>Complain</th>\n",
       "      <th>OrderAmountHikeFromlastYear</th>\n",
       "      <th>CouponUsed</th>\n",
       "      <th>OrderCount</th>\n",
       "      <th>DaySinceLastOrder</th>\n",
       "      <th>CashbackAmount</th>\n",
       "    </tr>\n",
       "  </thead>\n",
       "  <tbody>\n",
       "    <tr>\n",
       "      <th>count</th>\n",
       "      <td>5630.000000</td>\n",
       "      <td>5630.000000</td>\n",
       "      <td>5630.000000</td>\n",
       "      <td>5630.000000</td>\n",
       "      <td>5630.000000</td>\n",
       "      <td>5630.000000</td>\n",
       "      <td>5630.000000</td>\n",
       "      <td>5630.000000</td>\n",
       "      <td>5630.000000</td>\n",
       "      <td>5630.000000</td>\n",
       "      <td>5630.000000</td>\n",
       "      <td>5630.000000</td>\n",
       "      <td>5630.000000</td>\n",
       "      <td>5630.000000</td>\n",
       "    </tr>\n",
       "    <tr>\n",
       "      <th>mean</th>\n",
       "      <td>0.168384</td>\n",
       "      <td>10.173914</td>\n",
       "      <td>1.654707</td>\n",
       "      <td>15.490231</td>\n",
       "      <td>2.934636</td>\n",
       "      <td>3.695471</td>\n",
       "      <td>3.066785</td>\n",
       "      <td>4.207993</td>\n",
       "      <td>0.284902</td>\n",
       "      <td>15.671670</td>\n",
       "      <td>1.440409</td>\n",
       "      <td>2.520604</td>\n",
       "      <td>4.429130</td>\n",
       "      <td>175.324229</td>\n",
       "    </tr>\n",
       "    <tr>\n",
       "      <th>std</th>\n",
       "      <td>0.374240</td>\n",
       "      <td>8.287624</td>\n",
       "      <td>0.915389</td>\n",
       "      <td>8.100414</td>\n",
       "      <td>0.703826</td>\n",
       "      <td>0.942015</td>\n",
       "      <td>1.380194</td>\n",
       "      <td>2.555111</td>\n",
       "      <td>0.451408</td>\n",
       "      <td>3.582823</td>\n",
       "      <td>1.071295</td>\n",
       "      <td>1.711109</td>\n",
       "      <td>3.439184</td>\n",
       "      <td>44.069817</td>\n",
       "    </tr>\n",
       "    <tr>\n",
       "      <th>min</th>\n",
       "      <td>0.000000</td>\n",
       "      <td>0.000000</td>\n",
       "      <td>1.000000</td>\n",
       "      <td>5.000000</td>\n",
       "      <td>0.500000</td>\n",
       "      <td>1.500000</td>\n",
       "      <td>1.000000</td>\n",
       "      <td>1.000000</td>\n",
       "      <td>0.000000</td>\n",
       "      <td>11.000000</td>\n",
       "      <td>0.000000</td>\n",
       "      <td>1.000000</td>\n",
       "      <td>0.000000</td>\n",
       "      <td>69.836250</td>\n",
       "    </tr>\n",
       "    <tr>\n",
       "      <th>25%</th>\n",
       "      <td>0.000000</td>\n",
       "      <td>3.000000</td>\n",
       "      <td>1.000000</td>\n",
       "      <td>9.000000</td>\n",
       "      <td>2.000000</td>\n",
       "      <td>3.000000</td>\n",
       "      <td>2.000000</td>\n",
       "      <td>2.000000</td>\n",
       "      <td>0.000000</td>\n",
       "      <td>13.000000</td>\n",
       "      <td>1.000000</td>\n",
       "      <td>1.000000</td>\n",
       "      <td>2.000000</td>\n",
       "      <td>145.770000</td>\n",
       "    </tr>\n",
       "    <tr>\n",
       "      <th>50%</th>\n",
       "      <td>0.000000</td>\n",
       "      <td>9.000000</td>\n",
       "      <td>1.000000</td>\n",
       "      <td>13.000000</td>\n",
       "      <td>3.000000</td>\n",
       "      <td>4.000000</td>\n",
       "      <td>3.000000</td>\n",
       "      <td>3.000000</td>\n",
       "      <td>0.000000</td>\n",
       "      <td>15.000000</td>\n",
       "      <td>1.000000</td>\n",
       "      <td>2.000000</td>\n",
       "      <td>3.000000</td>\n",
       "      <td>163.280000</td>\n",
       "    </tr>\n",
       "    <tr>\n",
       "      <th>75%</th>\n",
       "      <td>0.000000</td>\n",
       "      <td>15.000000</td>\n",
       "      <td>3.000000</td>\n",
       "      <td>20.000000</td>\n",
       "      <td>3.000000</td>\n",
       "      <td>4.000000</td>\n",
       "      <td>4.000000</td>\n",
       "      <td>6.000000</td>\n",
       "      <td>1.000000</td>\n",
       "      <td>18.000000</td>\n",
       "      <td>2.000000</td>\n",
       "      <td>3.000000</td>\n",
       "      <td>7.000000</td>\n",
       "      <td>196.392500</td>\n",
       "    </tr>\n",
       "    <tr>\n",
       "      <th>max</th>\n",
       "      <td>1.000000</td>\n",
       "      <td>33.000000</td>\n",
       "      <td>3.000000</td>\n",
       "      <td>36.500000</td>\n",
       "      <td>4.500000</td>\n",
       "      <td>5.500000</td>\n",
       "      <td>5.000000</td>\n",
       "      <td>12.000000</td>\n",
       "      <td>1.000000</td>\n",
       "      <td>25.500000</td>\n",
       "      <td>3.500000</td>\n",
       "      <td>6.000000</td>\n",
       "      <td>14.500000</td>\n",
       "      <td>272.326250</td>\n",
       "    </tr>\n",
       "  </tbody>\n",
       "</table>\n",
       "</div>"
      ],
      "text/plain": [
       "             Churn       Tenure     CityTier  WarehouseToHome  HourSpendOnApp  \\\n",
       "count  5630.000000  5630.000000  5630.000000      5630.000000     5630.000000   \n",
       "mean      0.168384    10.173914     1.654707        15.490231        2.934636   \n",
       "std       0.374240     8.287624     0.915389         8.100414        0.703826   \n",
       "min       0.000000     0.000000     1.000000         5.000000        0.500000   \n",
       "25%       0.000000     3.000000     1.000000         9.000000        2.000000   \n",
       "50%       0.000000     9.000000     1.000000        13.000000        3.000000   \n",
       "75%       0.000000    15.000000     3.000000        20.000000        3.000000   \n",
       "max       1.000000    33.000000     3.000000        36.500000        4.500000   \n",
       "\n",
       "       NumberOfDeviceRegistered  SatisfactionScore  NumberOfAddress  \\\n",
       "count               5630.000000        5630.000000      5630.000000   \n",
       "mean                   3.695471           3.066785         4.207993   \n",
       "std                    0.942015           1.380194         2.555111   \n",
       "min                    1.500000           1.000000         1.000000   \n",
       "25%                    3.000000           2.000000         2.000000   \n",
       "50%                    4.000000           3.000000         3.000000   \n",
       "75%                    4.000000           4.000000         6.000000   \n",
       "max                    5.500000           5.000000        12.000000   \n",
       "\n",
       "          Complain  OrderAmountHikeFromlastYear   CouponUsed   OrderCount  \\\n",
       "count  5630.000000                  5630.000000  5630.000000  5630.000000   \n",
       "mean      0.284902                    15.671670     1.440409     2.520604   \n",
       "std       0.451408                     3.582823     1.071295     1.711109   \n",
       "min       0.000000                    11.000000     0.000000     1.000000   \n",
       "25%       0.000000                    13.000000     1.000000     1.000000   \n",
       "50%       0.000000                    15.000000     1.000000     2.000000   \n",
       "75%       1.000000                    18.000000     2.000000     3.000000   \n",
       "max       1.000000                    25.500000     3.500000     6.000000   \n",
       "\n",
       "       DaySinceLastOrder  CashbackAmount  \n",
       "count        5630.000000     5630.000000  \n",
       "mean            4.429130      175.324229  \n",
       "std             3.439184       44.069817  \n",
       "min             0.000000       69.836250  \n",
       "25%             2.000000      145.770000  \n",
       "50%             3.000000      163.280000  \n",
       "75%             7.000000      196.392500  \n",
       "max            14.500000      272.326250  "
      ]
     },
     "execution_count": 25,
     "metadata": {},
     "output_type": "execute_result"
    }
   ],
   "source": [
    "df.describe()"
   ]
  },
  {
   "cell_type": "markdown",
   "id": "bc043bdc",
   "metadata": {},
   "source": [
    "# Handling categorical values"
   ]
  },
  {
   "cell_type": "code",
   "execution_count": 26,
   "id": "c43352a2",
   "metadata": {},
   "outputs": [
    {
     "data": {
      "text/html": [
       "<div>\n",
       "<style scoped>\n",
       "    .dataframe tbody tr th:only-of-type {\n",
       "        vertical-align: middle;\n",
       "    }\n",
       "\n",
       "    .dataframe tbody tr th {\n",
       "        vertical-align: top;\n",
       "    }\n",
       "\n",
       "    .dataframe thead th {\n",
       "        text-align: right;\n",
       "    }\n",
       "</style>\n",
       "<table border=\"1\" class=\"dataframe\">\n",
       "  <thead>\n",
       "    <tr style=\"text-align: right;\">\n",
       "      <th></th>\n",
       "      <th>Churn</th>\n",
       "      <th>Tenure</th>\n",
       "      <th>PreferredLoginDevice</th>\n",
       "      <th>CityTier</th>\n",
       "      <th>WarehouseToHome</th>\n",
       "      <th>PreferredPaymentMode</th>\n",
       "      <th>Gender</th>\n",
       "      <th>HourSpendOnApp</th>\n",
       "      <th>NumberOfDeviceRegistered</th>\n",
       "      <th>PreferedOrderCat</th>\n",
       "      <th>SatisfactionScore</th>\n",
       "      <th>MaritalStatus</th>\n",
       "      <th>NumberOfAddress</th>\n",
       "      <th>Complain</th>\n",
       "      <th>OrderAmountHikeFromlastYear</th>\n",
       "      <th>CouponUsed</th>\n",
       "      <th>OrderCount</th>\n",
       "      <th>DaySinceLastOrder</th>\n",
       "      <th>CashbackAmount</th>\n",
       "    </tr>\n",
       "  </thead>\n",
       "  <tbody>\n",
       "    <tr>\n",
       "      <th>0</th>\n",
       "      <td>1</td>\n",
       "      <td>4.000000</td>\n",
       "      <td>Mobile Phone</td>\n",
       "      <td>3.0</td>\n",
       "      <td>6.0</td>\n",
       "      <td>Debit Card</td>\n",
       "      <td>Female</td>\n",
       "      <td>3.0</td>\n",
       "      <td>3.0</td>\n",
       "      <td>Laptop &amp; Accessory</td>\n",
       "      <td>2.0</td>\n",
       "      <td>Single</td>\n",
       "      <td>9.0</td>\n",
       "      <td>1.0</td>\n",
       "      <td>11.0</td>\n",
       "      <td>1.0</td>\n",
       "      <td>1.0</td>\n",
       "      <td>5.0</td>\n",
       "      <td>159.93</td>\n",
       "    </tr>\n",
       "    <tr>\n",
       "      <th>1</th>\n",
       "      <td>1</td>\n",
       "      <td>10.189899</td>\n",
       "      <td>Phone</td>\n",
       "      <td>1.0</td>\n",
       "      <td>8.0</td>\n",
       "      <td>UPI</td>\n",
       "      <td>Male</td>\n",
       "      <td>3.0</td>\n",
       "      <td>4.0</td>\n",
       "      <td>Mobile</td>\n",
       "      <td>3.0</td>\n",
       "      <td>Single</td>\n",
       "      <td>7.0</td>\n",
       "      <td>1.0</td>\n",
       "      <td>15.0</td>\n",
       "      <td>0.0</td>\n",
       "      <td>1.0</td>\n",
       "      <td>0.0</td>\n",
       "      <td>120.90</td>\n",
       "    </tr>\n",
       "    <tr>\n",
       "      <th>2</th>\n",
       "      <td>1</td>\n",
       "      <td>10.189899</td>\n",
       "      <td>Phone</td>\n",
       "      <td>1.0</td>\n",
       "      <td>30.0</td>\n",
       "      <td>Debit Card</td>\n",
       "      <td>Male</td>\n",
       "      <td>2.0</td>\n",
       "      <td>4.0</td>\n",
       "      <td>Mobile</td>\n",
       "      <td>3.0</td>\n",
       "      <td>Single</td>\n",
       "      <td>6.0</td>\n",
       "      <td>1.0</td>\n",
       "      <td>14.0</td>\n",
       "      <td>0.0</td>\n",
       "      <td>1.0</td>\n",
       "      <td>3.0</td>\n",
       "      <td>120.28</td>\n",
       "    </tr>\n",
       "    <tr>\n",
       "      <th>3</th>\n",
       "      <td>1</td>\n",
       "      <td>0.000000</td>\n",
       "      <td>Phone</td>\n",
       "      <td>3.0</td>\n",
       "      <td>15.0</td>\n",
       "      <td>Debit Card</td>\n",
       "      <td>Male</td>\n",
       "      <td>2.0</td>\n",
       "      <td>4.0</td>\n",
       "      <td>Laptop &amp; Accessory</td>\n",
       "      <td>5.0</td>\n",
       "      <td>Single</td>\n",
       "      <td>8.0</td>\n",
       "      <td>0.0</td>\n",
       "      <td>23.0</td>\n",
       "      <td>0.0</td>\n",
       "      <td>1.0</td>\n",
       "      <td>3.0</td>\n",
       "      <td>134.07</td>\n",
       "    </tr>\n",
       "    <tr>\n",
       "      <th>4</th>\n",
       "      <td>1</td>\n",
       "      <td>0.000000</td>\n",
       "      <td>Phone</td>\n",
       "      <td>1.0</td>\n",
       "      <td>12.0</td>\n",
       "      <td>CC</td>\n",
       "      <td>Male</td>\n",
       "      <td>3.0</td>\n",
       "      <td>3.0</td>\n",
       "      <td>Mobile</td>\n",
       "      <td>5.0</td>\n",
       "      <td>Single</td>\n",
       "      <td>3.0</td>\n",
       "      <td>0.0</td>\n",
       "      <td>11.0</td>\n",
       "      <td>1.0</td>\n",
       "      <td>1.0</td>\n",
       "      <td>3.0</td>\n",
       "      <td>129.60</td>\n",
       "    </tr>\n",
       "  </tbody>\n",
       "</table>\n",
       "</div>"
      ],
      "text/plain": [
       "   Churn     Tenure PreferredLoginDevice  CityTier  WarehouseToHome  \\\n",
       "0      1   4.000000         Mobile Phone       3.0              6.0   \n",
       "1      1  10.189899                Phone       1.0              8.0   \n",
       "2      1  10.189899                Phone       1.0             30.0   \n",
       "3      1   0.000000                Phone       3.0             15.0   \n",
       "4      1   0.000000                Phone       1.0             12.0   \n",
       "\n",
       "  PreferredPaymentMode  Gender  HourSpendOnApp  NumberOfDeviceRegistered  \\\n",
       "0           Debit Card  Female             3.0                       3.0   \n",
       "1                  UPI    Male             3.0                       4.0   \n",
       "2           Debit Card    Male             2.0                       4.0   \n",
       "3           Debit Card    Male             2.0                       4.0   \n",
       "4                   CC    Male             3.0                       3.0   \n",
       "\n",
       "     PreferedOrderCat  SatisfactionScore MaritalStatus  NumberOfAddress  \\\n",
       "0  Laptop & Accessory                2.0        Single              9.0   \n",
       "1              Mobile                3.0        Single              7.0   \n",
       "2              Mobile                3.0        Single              6.0   \n",
       "3  Laptop & Accessory                5.0        Single              8.0   \n",
       "4              Mobile                5.0        Single              3.0   \n",
       "\n",
       "   Complain  OrderAmountHikeFromlastYear  CouponUsed  OrderCount  \\\n",
       "0       1.0                         11.0         1.0         1.0   \n",
       "1       1.0                         15.0         0.0         1.0   \n",
       "2       1.0                         14.0         0.0         1.0   \n",
       "3       0.0                         23.0         0.0         1.0   \n",
       "4       0.0                         11.0         1.0         1.0   \n",
       "\n",
       "   DaySinceLastOrder  CashbackAmount  \n",
       "0                5.0          159.93  \n",
       "1                0.0          120.90  \n",
       "2                3.0          120.28  \n",
       "3                3.0          134.07  \n",
       "4                3.0          129.60  "
      ]
     },
     "execution_count": 26,
     "metadata": {},
     "output_type": "execute_result"
    }
   ],
   "source": [
    "df.head()"
   ]
  },
  {
   "cell_type": "code",
   "execution_count": 27,
   "id": "e0f8d6aa",
   "metadata": {},
   "outputs": [],
   "source": [
    "df['PreferredLoginDevice'] = np.where(df['PreferredLoginDevice'] == 'Mobile Phone', 'Phone', df['PreferredLoginDevice'])"
   ]
  },
  {
   "cell_type": "code",
   "execution_count": 28,
   "id": "2d90de32",
   "metadata": {},
   "outputs": [],
   "source": [
    "t = pd.get_dummies(df['PreferredLoginDevice'], drop_first=True)"
   ]
  },
  {
   "cell_type": "code",
   "execution_count": 29,
   "id": "9f14f881",
   "metadata": {},
   "outputs": [],
   "source": [
    "new_df = pd.concat([df, t], axis = 1)"
   ]
  },
  {
   "cell_type": "code",
   "execution_count": 30,
   "id": "6d92d882",
   "metadata": {},
   "outputs": [
    {
     "data": {
      "text/plain": [
       "array(['Debit Card', 'UPI', 'CC', 'Cash on Delivery', 'E wallet', 'COD',\n",
       "       'Credit Card'], dtype=object)"
      ]
     },
     "execution_count": 30,
     "metadata": {},
     "output_type": "execute_result"
    }
   ],
   "source": [
    "new_df['PreferredPaymentMode'].unique()"
   ]
  },
  {
   "cell_type": "code",
   "execution_count": 31,
   "id": "e6deb02e",
   "metadata": {},
   "outputs": [],
   "source": [
    "new_df['PreferredPaymentMode'] = np.where(new_df['PreferredPaymentMode'] == 'Cash on Delivery', 'COD', new_df['PreferredPaymentMode'])\n",
    "new_df['PreferredPaymentMode'] = np.where(new_df['PreferredPaymentMode'] == 'CC', 'Credit Card', new_df['PreferredPaymentMode'])"
   ]
  },
  {
   "cell_type": "code",
   "execution_count": 32,
   "id": "306c4b4c",
   "metadata": {},
   "outputs": [
    {
     "data": {
      "text/plain": [
       "PreferredPaymentMode\n",
       "COD             514\n",
       "Credit Card    1774\n",
       "Debit Card     2314\n",
       "E wallet        614\n",
       "UPI             414\n",
       "Name: PreferredPaymentMode, dtype: int64"
      ]
     },
     "execution_count": 32,
     "metadata": {},
     "output_type": "execute_result"
    }
   ],
   "source": [
    "new_df['PreferredPaymentMode'].groupby(new_df['PreferredPaymentMode']).count()"
   ]
  },
  {
   "cell_type": "code",
   "execution_count": 33,
   "id": "e8fac153",
   "metadata": {},
   "outputs": [],
   "source": [
    "new_df['PreferedOrderCat'] = np.where(new_df['PreferedOrderCat'] == 'Mobile Phone', 'Mobile', new_df['PreferedOrderCat'])"
   ]
  },
  {
   "cell_type": "code",
   "execution_count": 34,
   "id": "b77dff5e",
   "metadata": {},
   "outputs": [
    {
     "data": {
      "text/plain": [
       "PreferedOrderCat\n",
       "Fashion                826\n",
       "Grocery                410\n",
       "Laptop & Accessory    2050\n",
       "Mobile                2080\n",
       "Others                 264\n",
       "Name: PreferedOrderCat, dtype: int64"
      ]
     },
     "execution_count": 34,
     "metadata": {},
     "output_type": "execute_result"
    }
   ],
   "source": [
    "new_df['PreferedOrderCat'].groupby(new_df['PreferedOrderCat']).count()"
   ]
  },
  {
   "cell_type": "code",
   "execution_count": 35,
   "id": "e34a07db",
   "metadata": {},
   "outputs": [
    {
     "data": {
      "text/plain": [
       "array(['Single', 'Divorced', 'Married'], dtype=object)"
      ]
     },
     "execution_count": 35,
     "metadata": {},
     "output_type": "execute_result"
    }
   ],
   "source": [
    "new_df['MaritalStatus'].unique()"
   ]
  },
  {
   "cell_type": "code",
   "execution_count": 36,
   "id": "fc613874",
   "metadata": {},
   "outputs": [],
   "source": [
    "def cat_handeling(d):\n",
    "    t = pd.get_dummies(new_df[d], drop_first=True)\n",
    "    return pd.concat([new_df, t], axis = 1)"
   ]
  },
  {
   "cell_type": "code",
   "execution_count": 37,
   "id": "5497957c",
   "metadata": {},
   "outputs": [],
   "source": [
    "for i in [\"PreferredPaymentMode\", \"Gender\", \"PreferedOrderCat\", \"MaritalStatus\"]:\n",
    "    new_df = cat_handeling(i)"
   ]
  },
  {
   "cell_type": "code",
   "execution_count": 38,
   "id": "7ad23ec6",
   "metadata": {},
   "outputs": [],
   "source": [
    "col = ['PreferredLoginDevice', \"PreferredPaymentMode\", \"Gender\", \"MaritalStatus\", \"PreferedOrderCat\"]"
   ]
  },
  {
   "cell_type": "code",
   "execution_count": 39,
   "id": "6ca4b0c8",
   "metadata": {},
   "outputs": [],
   "source": [
    "new_df = new_df.drop(columns=col)"
   ]
  },
  {
   "cell_type": "code",
   "execution_count": 40,
   "id": "02c92b44",
   "metadata": {},
   "outputs": [
    {
     "data": {
      "text/plain": [
       "Index(['Churn', 'Tenure', 'CityTier', 'WarehouseToHome', 'HourSpendOnApp',\n",
       "       'NumberOfDeviceRegistered', 'SatisfactionScore', 'NumberOfAddress',\n",
       "       'Complain', 'OrderAmountHikeFromlastYear', 'CouponUsed', 'OrderCount',\n",
       "       'DaySinceLastOrder', 'CashbackAmount', 'Phone', 'Credit Card',\n",
       "       'Debit Card', 'E wallet', 'UPI', 'Male', 'Grocery',\n",
       "       'Laptop & Accessory', 'Mobile', 'Others', 'Married', 'Single'],\n",
       "      dtype='object')"
      ]
     },
     "execution_count": 40,
     "metadata": {},
     "output_type": "execute_result"
    }
   ],
   "source": [
    "new_df.columns"
   ]
  },
  {
   "cell_type": "markdown",
   "id": "c96486e6",
   "metadata": {},
   "source": [
    "# Feature Scaling"
   ]
  },
  {
   "cell_type": "code",
   "execution_count": 41,
   "id": "e07cbb17",
   "metadata": {},
   "outputs": [],
   "source": [
    "from sklearn.preprocessing import StandardScaler\n",
    "ss = StandardScaler()\n",
    "scaled_df = ss.fit_transform(new_df.iloc[:,1:])"
   ]
  },
  {
   "cell_type": "code",
   "execution_count": 42,
   "id": "8c3cfe0e",
   "metadata": {},
   "outputs": [],
   "source": [
    "scaled_df = pd.DataFrame(scaled_df, columns = new_df.columns[1:])"
   ]
  },
  {
   "cell_type": "code",
   "execution_count": 43,
   "id": "2f8c7ad0",
   "metadata": {},
   "outputs": [],
   "source": [
    "scaled_df = pd.concat([scaled_df, new_df['Churn']], axis = 1)"
   ]
  },
  {
   "cell_type": "code",
   "execution_count": 44,
   "id": "a36140af",
   "metadata": {},
   "outputs": [
    {
     "data": {
      "text/html": [
       "<div>\n",
       "<style scoped>\n",
       "    .dataframe tbody tr th:only-of-type {\n",
       "        vertical-align: middle;\n",
       "    }\n",
       "\n",
       "    .dataframe tbody tr th {\n",
       "        vertical-align: top;\n",
       "    }\n",
       "\n",
       "    .dataframe thead th {\n",
       "        text-align: right;\n",
       "    }\n",
       "</style>\n",
       "<table border=\"1\" class=\"dataframe\">\n",
       "  <thead>\n",
       "    <tr style=\"text-align: right;\">\n",
       "      <th></th>\n",
       "      <th>Tenure</th>\n",
       "      <th>CityTier</th>\n",
       "      <th>WarehouseToHome</th>\n",
       "      <th>HourSpendOnApp</th>\n",
       "      <th>NumberOfDeviceRegistered</th>\n",
       "      <th>SatisfactionScore</th>\n",
       "      <th>NumberOfAddress</th>\n",
       "      <th>Complain</th>\n",
       "      <th>OrderAmountHikeFromlastYear</th>\n",
       "      <th>CouponUsed</th>\n",
       "      <th>...</th>\n",
       "      <th>E wallet</th>\n",
       "      <th>UPI</th>\n",
       "      <th>Male</th>\n",
       "      <th>Grocery</th>\n",
       "      <th>Laptop &amp; Accessory</th>\n",
       "      <th>Mobile</th>\n",
       "      <th>Others</th>\n",
       "      <th>Married</th>\n",
       "      <th>Single</th>\n",
       "      <th>Churn</th>\n",
       "    </tr>\n",
       "  </thead>\n",
       "  <tbody>\n",
       "    <tr>\n",
       "      <th>0</th>\n",
       "      <td>-0.745022</td>\n",
       "      <td>1.469771</td>\n",
       "      <td>-1.171678</td>\n",
       "      <td>0.092878</td>\n",
       "      <td>-0.738345</td>\n",
       "      <td>-0.772992</td>\n",
       "      <td>1.875626</td>\n",
       "      <td>1.584290</td>\n",
       "      <td>-1.304023</td>\n",
       "      <td>-0.411136</td>\n",
       "      <td>...</td>\n",
       "      <td>-0.349869</td>\n",
       "      <td>-0.281729</td>\n",
       "      <td>-1.227468</td>\n",
       "      <td>-0.280257</td>\n",
       "      <td>1.321492</td>\n",
       "      <td>-0.765451</td>\n",
       "      <td>-0.221808</td>\n",
       "      <td>-1.062709</td>\n",
       "      <td>1.461076</td>\n",
       "      <td>1</td>\n",
       "    </tr>\n",
       "    <tr>\n",
       "      <th>1</th>\n",
       "      <td>0.001929</td>\n",
       "      <td>-0.715286</td>\n",
       "      <td>-0.924755</td>\n",
       "      <td>0.092878</td>\n",
       "      <td>0.323303</td>\n",
       "      <td>-0.048392</td>\n",
       "      <td>1.092812</td>\n",
       "      <td>1.584290</td>\n",
       "      <td>-0.187486</td>\n",
       "      <td>-1.344668</td>\n",
       "      <td>...</td>\n",
       "      <td>-0.349869</td>\n",
       "      <td>3.549512</td>\n",
       "      <td>0.814685</td>\n",
       "      <td>-0.280257</td>\n",
       "      <td>-0.756720</td>\n",
       "      <td>1.306419</td>\n",
       "      <td>-0.221808</td>\n",
       "      <td>-1.062709</td>\n",
       "      <td>1.461076</td>\n",
       "      <td>1</td>\n",
       "    </tr>\n",
       "    <tr>\n",
       "      <th>2</th>\n",
       "      <td>0.001929</td>\n",
       "      <td>-0.715286</td>\n",
       "      <td>1.791397</td>\n",
       "      <td>-1.328053</td>\n",
       "      <td>0.323303</td>\n",
       "      <td>-0.048392</td>\n",
       "      <td>0.701405</td>\n",
       "      <td>1.584290</td>\n",
       "      <td>-0.466620</td>\n",
       "      <td>-1.344668</td>\n",
       "      <td>...</td>\n",
       "      <td>-0.349869</td>\n",
       "      <td>-0.281729</td>\n",
       "      <td>0.814685</td>\n",
       "      <td>-0.280257</td>\n",
       "      <td>-0.756720</td>\n",
       "      <td>1.306419</td>\n",
       "      <td>-0.221808</td>\n",
       "      <td>-1.062709</td>\n",
       "      <td>1.461076</td>\n",
       "      <td>1</td>\n",
       "    </tr>\n",
       "    <tr>\n",
       "      <th>3</th>\n",
       "      <td>-1.227712</td>\n",
       "      <td>1.469771</td>\n",
       "      <td>-0.060525</td>\n",
       "      <td>-1.328053</td>\n",
       "      <td>0.323303</td>\n",
       "      <td>1.400807</td>\n",
       "      <td>1.484219</td>\n",
       "      <td>-0.631198</td>\n",
       "      <td>2.045589</td>\n",
       "      <td>-1.344668</td>\n",
       "      <td>...</td>\n",
       "      <td>-0.349869</td>\n",
       "      <td>-0.281729</td>\n",
       "      <td>0.814685</td>\n",
       "      <td>-0.280257</td>\n",
       "      <td>1.321492</td>\n",
       "      <td>-0.765451</td>\n",
       "      <td>-0.221808</td>\n",
       "      <td>-1.062709</td>\n",
       "      <td>1.461076</td>\n",
       "      <td>1</td>\n",
       "    </tr>\n",
       "    <tr>\n",
       "      <th>4</th>\n",
       "      <td>-1.227712</td>\n",
       "      <td>-0.715286</td>\n",
       "      <td>-0.430909</td>\n",
       "      <td>0.092878</td>\n",
       "      <td>-0.738345</td>\n",
       "      <td>1.400807</td>\n",
       "      <td>-0.472817</td>\n",
       "      <td>-0.631198</td>\n",
       "      <td>-1.304023</td>\n",
       "      <td>-0.411136</td>\n",
       "      <td>...</td>\n",
       "      <td>-0.349869</td>\n",
       "      <td>-0.281729</td>\n",
       "      <td>0.814685</td>\n",
       "      <td>-0.280257</td>\n",
       "      <td>-0.756720</td>\n",
       "      <td>1.306419</td>\n",
       "      <td>-0.221808</td>\n",
       "      <td>-1.062709</td>\n",
       "      <td>1.461076</td>\n",
       "      <td>1</td>\n",
       "    </tr>\n",
       "  </tbody>\n",
       "</table>\n",
       "<p>5 rows × 26 columns</p>\n",
       "</div>"
      ],
      "text/plain": [
       "     Tenure  CityTier  WarehouseToHome  HourSpendOnApp  \\\n",
       "0 -0.745022  1.469771        -1.171678        0.092878   \n",
       "1  0.001929 -0.715286        -0.924755        0.092878   \n",
       "2  0.001929 -0.715286         1.791397       -1.328053   \n",
       "3 -1.227712  1.469771        -0.060525       -1.328053   \n",
       "4 -1.227712 -0.715286        -0.430909        0.092878   \n",
       "\n",
       "   NumberOfDeviceRegistered  SatisfactionScore  NumberOfAddress  Complain  \\\n",
       "0                 -0.738345          -0.772992         1.875626  1.584290   \n",
       "1                  0.323303          -0.048392         1.092812  1.584290   \n",
       "2                  0.323303          -0.048392         0.701405  1.584290   \n",
       "3                  0.323303           1.400807         1.484219 -0.631198   \n",
       "4                 -0.738345           1.400807        -0.472817 -0.631198   \n",
       "\n",
       "   OrderAmountHikeFromlastYear  CouponUsed  ...  E wallet       UPI      Male  \\\n",
       "0                    -1.304023   -0.411136  ... -0.349869 -0.281729 -1.227468   \n",
       "1                    -0.187486   -1.344668  ... -0.349869  3.549512  0.814685   \n",
       "2                    -0.466620   -1.344668  ... -0.349869 -0.281729  0.814685   \n",
       "3                     2.045589   -1.344668  ... -0.349869 -0.281729  0.814685   \n",
       "4                    -1.304023   -0.411136  ... -0.349869 -0.281729  0.814685   \n",
       "\n",
       "    Grocery  Laptop & Accessory    Mobile    Others   Married    Single  Churn  \n",
       "0 -0.280257            1.321492 -0.765451 -0.221808 -1.062709  1.461076      1  \n",
       "1 -0.280257           -0.756720  1.306419 -0.221808 -1.062709  1.461076      1  \n",
       "2 -0.280257           -0.756720  1.306419 -0.221808 -1.062709  1.461076      1  \n",
       "3 -0.280257            1.321492 -0.765451 -0.221808 -1.062709  1.461076      1  \n",
       "4 -0.280257           -0.756720  1.306419 -0.221808 -1.062709  1.461076      1  \n",
       "\n",
       "[5 rows x 26 columns]"
      ]
     },
     "execution_count": 44,
     "metadata": {},
     "output_type": "execute_result"
    }
   ],
   "source": [
    "scaled_df.head()"
   ]
  },
  {
   "cell_type": "markdown",
   "id": "9c662b67",
   "metadata": {},
   "source": [
    "# Splitting the dataset"
   ]
  },
  {
   "cell_type": "code",
   "execution_count": 45,
   "id": "fc453ab4",
   "metadata": {},
   "outputs": [],
   "source": [
    "x = scaled_df.iloc[:,:-1]\n",
    "y = scaled_df.iloc[:,-1]"
   ]
  },
  {
   "cell_type": "code",
   "execution_count": 46,
   "id": "4fe5c37e",
   "metadata": {},
   "outputs": [
    {
     "data": {
      "text/html": [
       "<div>\n",
       "<style scoped>\n",
       "    .dataframe tbody tr th:only-of-type {\n",
       "        vertical-align: middle;\n",
       "    }\n",
       "\n",
       "    .dataframe tbody tr th {\n",
       "        vertical-align: top;\n",
       "    }\n",
       "\n",
       "    .dataframe thead th {\n",
       "        text-align: right;\n",
       "    }\n",
       "</style>\n",
       "<table border=\"1\" class=\"dataframe\">\n",
       "  <thead>\n",
       "    <tr style=\"text-align: right;\">\n",
       "      <th></th>\n",
       "      <th>Tenure</th>\n",
       "      <th>CityTier</th>\n",
       "      <th>WarehouseToHome</th>\n",
       "      <th>HourSpendOnApp</th>\n",
       "      <th>NumberOfDeviceRegistered</th>\n",
       "      <th>SatisfactionScore</th>\n",
       "      <th>NumberOfAddress</th>\n",
       "      <th>Complain</th>\n",
       "      <th>OrderAmountHikeFromlastYear</th>\n",
       "      <th>CouponUsed</th>\n",
       "      <th>...</th>\n",
       "      <th>Debit Card</th>\n",
       "      <th>E wallet</th>\n",
       "      <th>UPI</th>\n",
       "      <th>Male</th>\n",
       "      <th>Grocery</th>\n",
       "      <th>Laptop &amp; Accessory</th>\n",
       "      <th>Mobile</th>\n",
       "      <th>Others</th>\n",
       "      <th>Married</th>\n",
       "      <th>Single</th>\n",
       "    </tr>\n",
       "  </thead>\n",
       "  <tbody>\n",
       "    <tr>\n",
       "      <th>0</th>\n",
       "      <td>-0.745022</td>\n",
       "      <td>1.469771</td>\n",
       "      <td>-1.171678</td>\n",
       "      <td>0.092878</td>\n",
       "      <td>-0.738345</td>\n",
       "      <td>-0.772992</td>\n",
       "      <td>1.875626</td>\n",
       "      <td>1.584290</td>\n",
       "      <td>-1.304023</td>\n",
       "      <td>-0.411136</td>\n",
       "      <td>...</td>\n",
       "      <td>1.197087</td>\n",
       "      <td>-0.349869</td>\n",
       "      <td>-0.281729</td>\n",
       "      <td>-1.227468</td>\n",
       "      <td>-0.280257</td>\n",
       "      <td>1.321492</td>\n",
       "      <td>-0.765451</td>\n",
       "      <td>-0.221808</td>\n",
       "      <td>-1.062709</td>\n",
       "      <td>1.461076</td>\n",
       "    </tr>\n",
       "    <tr>\n",
       "      <th>1</th>\n",
       "      <td>0.001929</td>\n",
       "      <td>-0.715286</td>\n",
       "      <td>-0.924755</td>\n",
       "      <td>0.092878</td>\n",
       "      <td>0.323303</td>\n",
       "      <td>-0.048392</td>\n",
       "      <td>1.092812</td>\n",
       "      <td>1.584290</td>\n",
       "      <td>-0.187486</td>\n",
       "      <td>-1.344668</td>\n",
       "      <td>...</td>\n",
       "      <td>-0.835361</td>\n",
       "      <td>-0.349869</td>\n",
       "      <td>3.549512</td>\n",
       "      <td>0.814685</td>\n",
       "      <td>-0.280257</td>\n",
       "      <td>-0.756720</td>\n",
       "      <td>1.306419</td>\n",
       "      <td>-0.221808</td>\n",
       "      <td>-1.062709</td>\n",
       "      <td>1.461076</td>\n",
       "    </tr>\n",
       "    <tr>\n",
       "      <th>2</th>\n",
       "      <td>0.001929</td>\n",
       "      <td>-0.715286</td>\n",
       "      <td>1.791397</td>\n",
       "      <td>-1.328053</td>\n",
       "      <td>0.323303</td>\n",
       "      <td>-0.048392</td>\n",
       "      <td>0.701405</td>\n",
       "      <td>1.584290</td>\n",
       "      <td>-0.466620</td>\n",
       "      <td>-1.344668</td>\n",
       "      <td>...</td>\n",
       "      <td>1.197087</td>\n",
       "      <td>-0.349869</td>\n",
       "      <td>-0.281729</td>\n",
       "      <td>0.814685</td>\n",
       "      <td>-0.280257</td>\n",
       "      <td>-0.756720</td>\n",
       "      <td>1.306419</td>\n",
       "      <td>-0.221808</td>\n",
       "      <td>-1.062709</td>\n",
       "      <td>1.461076</td>\n",
       "    </tr>\n",
       "    <tr>\n",
       "      <th>3</th>\n",
       "      <td>-1.227712</td>\n",
       "      <td>1.469771</td>\n",
       "      <td>-0.060525</td>\n",
       "      <td>-1.328053</td>\n",
       "      <td>0.323303</td>\n",
       "      <td>1.400807</td>\n",
       "      <td>1.484219</td>\n",
       "      <td>-0.631198</td>\n",
       "      <td>2.045589</td>\n",
       "      <td>-1.344668</td>\n",
       "      <td>...</td>\n",
       "      <td>1.197087</td>\n",
       "      <td>-0.349869</td>\n",
       "      <td>-0.281729</td>\n",
       "      <td>0.814685</td>\n",
       "      <td>-0.280257</td>\n",
       "      <td>1.321492</td>\n",
       "      <td>-0.765451</td>\n",
       "      <td>-0.221808</td>\n",
       "      <td>-1.062709</td>\n",
       "      <td>1.461076</td>\n",
       "    </tr>\n",
       "    <tr>\n",
       "      <th>4</th>\n",
       "      <td>-1.227712</td>\n",
       "      <td>-0.715286</td>\n",
       "      <td>-0.430909</td>\n",
       "      <td>0.092878</td>\n",
       "      <td>-0.738345</td>\n",
       "      <td>1.400807</td>\n",
       "      <td>-0.472817</td>\n",
       "      <td>-0.631198</td>\n",
       "      <td>-1.304023</td>\n",
       "      <td>-0.411136</td>\n",
       "      <td>...</td>\n",
       "      <td>-0.835361</td>\n",
       "      <td>-0.349869</td>\n",
       "      <td>-0.281729</td>\n",
       "      <td>0.814685</td>\n",
       "      <td>-0.280257</td>\n",
       "      <td>-0.756720</td>\n",
       "      <td>1.306419</td>\n",
       "      <td>-0.221808</td>\n",
       "      <td>-1.062709</td>\n",
       "      <td>1.461076</td>\n",
       "    </tr>\n",
       "  </tbody>\n",
       "</table>\n",
       "<p>5 rows × 25 columns</p>\n",
       "</div>"
      ],
      "text/plain": [
       "     Tenure  CityTier  WarehouseToHome  HourSpendOnApp  \\\n",
       "0 -0.745022  1.469771        -1.171678        0.092878   \n",
       "1  0.001929 -0.715286        -0.924755        0.092878   \n",
       "2  0.001929 -0.715286         1.791397       -1.328053   \n",
       "3 -1.227712  1.469771        -0.060525       -1.328053   \n",
       "4 -1.227712 -0.715286        -0.430909        0.092878   \n",
       "\n",
       "   NumberOfDeviceRegistered  SatisfactionScore  NumberOfAddress  Complain  \\\n",
       "0                 -0.738345          -0.772992         1.875626  1.584290   \n",
       "1                  0.323303          -0.048392         1.092812  1.584290   \n",
       "2                  0.323303          -0.048392         0.701405  1.584290   \n",
       "3                  0.323303           1.400807         1.484219 -0.631198   \n",
       "4                 -0.738345           1.400807        -0.472817 -0.631198   \n",
       "\n",
       "   OrderAmountHikeFromlastYear  CouponUsed  ...  Debit Card  E wallet  \\\n",
       "0                    -1.304023   -0.411136  ...    1.197087 -0.349869   \n",
       "1                    -0.187486   -1.344668  ...   -0.835361 -0.349869   \n",
       "2                    -0.466620   -1.344668  ...    1.197087 -0.349869   \n",
       "3                     2.045589   -1.344668  ...    1.197087 -0.349869   \n",
       "4                    -1.304023   -0.411136  ...   -0.835361 -0.349869   \n",
       "\n",
       "        UPI      Male   Grocery  Laptop & Accessory    Mobile    Others  \\\n",
       "0 -0.281729 -1.227468 -0.280257            1.321492 -0.765451 -0.221808   \n",
       "1  3.549512  0.814685 -0.280257           -0.756720  1.306419 -0.221808   \n",
       "2 -0.281729  0.814685 -0.280257           -0.756720  1.306419 -0.221808   \n",
       "3 -0.281729  0.814685 -0.280257            1.321492 -0.765451 -0.221808   \n",
       "4 -0.281729  0.814685 -0.280257           -0.756720  1.306419 -0.221808   \n",
       "\n",
       "    Married    Single  \n",
       "0 -1.062709  1.461076  \n",
       "1 -1.062709  1.461076  \n",
       "2 -1.062709  1.461076  \n",
       "3 -1.062709  1.461076  \n",
       "4 -1.062709  1.461076  \n",
       "\n",
       "[5 rows x 25 columns]"
      ]
     },
     "execution_count": 46,
     "metadata": {},
     "output_type": "execute_result"
    }
   ],
   "source": [
    "x.head()"
   ]
  },
  {
   "cell_type": "code",
   "execution_count": 59,
   "id": "47538ebb",
   "metadata": {},
   "outputs": [],
   "source": [
    "from sklearn.model_selection import train_test_split\n",
    "xtrain, xtest, ytrain, ytest = train_test_split(x, y , test_size = 0.2, random_state = 7)"
   ]
  },
  {
   "cell_type": "code",
   "execution_count": 61,
   "id": "6d1a7a91",
   "metadata": {},
   "outputs": [
    {
     "data": {
      "text/plain": [
       "0    3752\n",
       "1     752\n",
       "Name: Churn, dtype: int64"
      ]
     },
     "execution_count": 61,
     "metadata": {},
     "output_type": "execute_result"
    }
   ],
   "source": [
    "ytrain.value_counts()"
   ]
  },
  {
   "cell_type": "code",
   "execution_count": 62,
   "id": "3fba34b9",
   "metadata": {},
   "outputs": [],
   "source": [
    "#We can see that we are having imbalance dataset.\n",
    "from imblearn.over_sampling import SMOTE"
   ]
  },
  {
   "cell_type": "code",
   "execution_count": 63,
   "id": "7908d432",
   "metadata": {},
   "outputs": [],
   "source": [
    "sm = SMOTE(random_state = 7)\n",
    "x_train, y_train = sm.fit_resample(xtrain, ytrain)"
   ]
  },
  {
   "cell_type": "code",
   "execution_count": 64,
   "id": "30c1c95d",
   "metadata": {},
   "outputs": [
    {
     "data": {
      "text/plain": [
       "0    3752\n",
       "1    3752\n",
       "Name: Churn, dtype: int64"
      ]
     },
     "execution_count": 64,
     "metadata": {},
     "output_type": "execute_result"
    }
   ],
   "source": [
    "y_train.value_counts()"
   ]
  },
  {
   "cell_type": "markdown",
   "id": "b63e5ae3",
   "metadata": {},
   "source": [
    "# Feature Selection"
   ]
  },
  {
   "cell_type": "code",
   "execution_count": 77,
   "id": "e92a6815",
   "metadata": {},
   "outputs": [],
   "source": [
    "from sklearn.ensemble import ExtraTreesClassifier\n",
    "et = ExtraTreesClassifier()\n",
    "et.fit(x_train, y_train)\n",
    "top_features = et.feature_importances_"
   ]
  },
  {
   "cell_type": "code",
   "execution_count": 98,
   "id": "01fd6e8b",
   "metadata": {},
   "outputs": [],
   "source": [
    "col = x_train.columns[top_features.argsort()][0:20]"
   ]
  },
  {
   "cell_type": "code",
   "execution_count": 100,
   "id": "ee32219e",
   "metadata": {},
   "outputs": [],
   "source": [
    "x_train = x_train[col]"
   ]
  },
  {
   "cell_type": "code",
   "execution_count": 104,
   "id": "ea3f3613",
   "metadata": {},
   "outputs": [],
   "source": [
    "xtest = xtest[col]"
   ]
  },
  {
   "cell_type": "code",
   "execution_count": 105,
   "id": "10b1604e",
   "metadata": {},
   "outputs": [
    {
     "data": {
      "text/plain": [
       "((7504, 20), (7504,))"
      ]
     },
     "execution_count": 105,
     "metadata": {},
     "output_type": "execute_result"
    }
   ],
   "source": [
    "x_train.shape, y_train.shape"
   ]
  },
  {
   "cell_type": "code",
   "execution_count": 106,
   "id": "1874e1e3",
   "metadata": {},
   "outputs": [
    {
     "data": {
      "text/plain": [
       "((1126, 20), (1126,))"
      ]
     },
     "execution_count": 106,
     "metadata": {},
     "output_type": "execute_result"
    }
   ],
   "source": [
    "xtest.shape, ytest.shape"
   ]
  },
  {
   "cell_type": "markdown",
   "id": "b5866733",
   "metadata": {},
   "source": [
    "# Model building"
   ]
  },
  {
   "cell_type": "code",
   "execution_count": 137,
   "id": "abcb3ad8",
   "metadata": {},
   "outputs": [
    {
     "data": {
      "text/plain": [
       "LogisticRegression(C=2, max_iter=3500)"
      ]
     },
     "execution_count": 137,
     "metadata": {},
     "output_type": "execute_result"
    }
   ],
   "source": [
    "#Logistic Regression\n",
    "from sklearn.linear_model import LogisticRegression\n",
    "lr = LogisticRegression(C = 2, max_iter=3500)\n",
    "lr.fit(x_train, y_train)"
   ]
  },
  {
   "cell_type": "code",
   "execution_count": 138,
   "id": "bef39a5c",
   "metadata": {},
   "outputs": [],
   "source": [
    "ypred = lr.predict(xtest)"
   ]
  },
  {
   "cell_type": "code",
   "execution_count": 144,
   "id": "f58a1c42",
   "metadata": {},
   "outputs": [
    {
     "data": {
      "text/plain": [
       "0.7140319715808171"
      ]
     },
     "execution_count": 144,
     "metadata": {},
     "output_type": "execute_result"
    }
   ],
   "source": [
    "lr.score(xtest, ytest)"
   ]
  },
  {
   "cell_type": "code",
   "execution_count": null,
   "id": "21868019",
   "metadata": {},
   "outputs": [],
   "source": []
  },
  {
   "cell_type": "code",
   "execution_count": 163,
   "id": "aca30ec6",
   "metadata": {},
   "outputs": [
    {
     "data": {
      "text/plain": [
       "DecisionTreeClassifier()"
      ]
     },
     "execution_count": 163,
     "metadata": {},
     "output_type": "execute_result"
    }
   ],
   "source": [
    "#DecisionTree\n",
    "from sklearn.tree import DecisionTreeClassifier\n",
    "dt = DecisionTreeClassifier()\n",
    "dt.fit(x_train, y_train)"
   ]
  },
  {
   "cell_type": "code",
   "execution_count": 164,
   "id": "a8d3978d",
   "metadata": {},
   "outputs": [],
   "source": [
    "dt_pred = dt.predict(xtest)"
   ]
  },
  {
   "cell_type": "code",
   "execution_count": 165,
   "id": "8f01b2d0",
   "metadata": {},
   "outputs": [
    {
     "data": {
      "text/plain": [
       "0.9023090586145648"
      ]
     },
     "execution_count": 165,
     "metadata": {},
     "output_type": "execute_result"
    }
   ],
   "source": [
    "dt.score(xtest, ytest)"
   ]
  },
  {
   "cell_type": "code",
   "execution_count": null,
   "id": "a2a76c5c",
   "metadata": {},
   "outputs": [],
   "source": []
  },
  {
   "cell_type": "code",
   "execution_count": 261,
   "id": "b6f78630",
   "metadata": {},
   "outputs": [],
   "source": [
    "#GridsearchCV for decision tree\n",
    "parameters = [{'criterion':[\"gini\", \"entropy\"],'max_depth':list(range(3,1000,50))}]"
   ]
  },
  {
   "cell_type": "code",
   "execution_count": 262,
   "id": "e904dd89",
   "metadata": {},
   "outputs": [
    {
     "data": {
      "text/plain": [
       "GridSearchCV(cv=20, estimator=DecisionTreeClassifier(),\n",
       "             param_grid=[{'criterion': ['gini', 'entropy'],\n",
       "                          'max_depth': [3, 53, 103, 153, 203, 253, 303, 353,\n",
       "                                        403, 453, 503, 553, 603, 653, 703, 753,\n",
       "                                        803, 853, 903, 953]}],\n",
       "             scoring='accuracy')"
      ]
     },
     "execution_count": 262,
     "metadata": {},
     "output_type": "execute_result"
    }
   ],
   "source": [
    "from sklearn.model_selection import GridSearchCV\n",
    "clf = GridSearchCV(dt, parameters, cv = 20, scoring = 'accuracy')\n",
    "clf.fit(x_train, y_train)"
   ]
  },
  {
   "cell_type": "code",
   "execution_count": 263,
   "id": "f3e3c667",
   "metadata": {},
   "outputs": [
    {
     "data": {
      "text/plain": [
       "{'criterion': 'entropy', 'max_depth': 203}"
      ]
     },
     "execution_count": 263,
     "metadata": {},
     "output_type": "execute_result"
    }
   ],
   "source": [
    "clf.best_params_"
   ]
  },
  {
   "cell_type": "code",
   "execution_count": 264,
   "id": "15a88579",
   "metadata": {},
   "outputs": [
    {
     "data": {
      "text/plain": [
       "0.9360691489361702"
      ]
     },
     "execution_count": 264,
     "metadata": {},
     "output_type": "execute_result"
    }
   ],
   "source": [
    "clf.best_score_"
   ]
  },
  {
   "cell_type": "code",
   "execution_count": 265,
   "id": "0e8aeab6",
   "metadata": {},
   "outputs": [],
   "source": [
    "best = clf.best_estimator_"
   ]
  },
  {
   "cell_type": "code",
   "execution_count": 266,
   "id": "e608c15f",
   "metadata": {},
   "outputs": [],
   "source": [
    "ypred = best.predict(xtest)"
   ]
  },
  {
   "cell_type": "code",
   "execution_count": 260,
   "id": "71923c0a",
   "metadata": {},
   "outputs": [
    {
     "data": {
      "text/plain": [
       "0.9182948490230906"
      ]
     },
     "execution_count": 260,
     "metadata": {},
     "output_type": "execute_result"
    }
   ],
   "source": [
    "best.score(xtest, ytest)"
   ]
  },
  {
   "cell_type": "code",
   "execution_count": null,
   "id": "777bef1c",
   "metadata": {},
   "outputs": [],
   "source": []
  },
  {
   "cell_type": "code",
   "execution_count": 267,
   "id": "f9cf5483",
   "metadata": {},
   "outputs": [
    {
     "data": {
      "text/plain": [
       "RandomForestClassifier()"
      ]
     },
     "execution_count": 267,
     "metadata": {},
     "output_type": "execute_result"
    }
   ],
   "source": [
    "#RandomForest\n",
    "from sklearn.ensemble import RandomForestClassifier\n",
    "rf = RandomForestClassifier()\n",
    "rf.fit(x_train, y_train)"
   ]
  },
  {
   "cell_type": "code",
   "execution_count": 268,
   "id": "b5b36d60",
   "metadata": {},
   "outputs": [],
   "source": [
    "rf_pred = rf.predict(xtest)"
   ]
  },
  {
   "cell_type": "code",
   "execution_count": 269,
   "id": "053c877d",
   "metadata": {},
   "outputs": [
    {
     "data": {
      "text/plain": [
       "0.9129662522202486"
      ]
     },
     "execution_count": 269,
     "metadata": {},
     "output_type": "execute_result"
    }
   ],
   "source": [
    "rf.score(xtest, ytest)"
   ]
  },
  {
   "cell_type": "code",
   "execution_count": null,
   "id": "e92735cd",
   "metadata": {},
   "outputs": [],
   "source": []
  },
  {
   "cell_type": "code",
   "execution_count": 304,
   "id": "ec70479c",
   "metadata": {},
   "outputs": [],
   "source": [
    "#GridsearchCV for randomforest\n",
    "param = [{'n_estimators':list(range(100,500,200)),'criterion':[\"gini\", \"entropy\"],'max_depth':list(range(10,100,20)),\n",
    "         'max_features': ['auto', 'sqrt', 'log2'], 'min_samples_split':list(range(3,10,3)),\n",
    "         'min_samples_leaf':list(range(3,10,3))}]"
   ]
  },
  {
   "cell_type": "code",
   "execution_count": 305,
   "id": "e4677e03",
   "metadata": {},
   "outputs": [
    {
     "data": {
      "text/plain": [
       "GridSearchCV(cv=10, estimator=RandomForestClassifier(), n_jobs=4,\n",
       "             param_grid=[{'criterion': ['gini', 'entropy'],\n",
       "                          'max_depth': [10, 30, 50, 70, 90],\n",
       "                          'max_features': ['auto', 'sqrt', 'log2'],\n",
       "                          'min_samples_leaf': [3, 6, 9],\n",
       "                          'min_samples_split': [3, 6, 9],\n",
       "                          'n_estimators': [100, 300]}],\n",
       "             scoring='accuracy')"
      ]
     },
     "execution_count": 305,
     "metadata": {},
     "output_type": "execute_result"
    }
   ],
   "source": [
    "rfclf = GridSearchCV(rf, param, cv=10, scoring = 'accuracy', n_jobs=4)\n",
    "rfclf.fit(x_train, y_train)"
   ]
  },
  {
   "cell_type": "code",
   "execution_count": 306,
   "id": "f89af2f7",
   "metadata": {},
   "outputs": [
    {
     "data": {
      "text/plain": [
       "{'criterion': 'entropy',\n",
       " 'max_depth': 70,\n",
       " 'max_features': 'sqrt',\n",
       " 'min_samples_leaf': 3,\n",
       " 'min_samples_split': 6,\n",
       " 'n_estimators': 300}"
      ]
     },
     "execution_count": 306,
     "metadata": {},
     "output_type": "execute_result"
    }
   ],
   "source": [
    "rfclf.best_params_"
   ]
  },
  {
   "cell_type": "code",
   "execution_count": 307,
   "id": "8b23cd2d",
   "metadata": {},
   "outputs": [
    {
     "data": {
      "text/plain": [
       "0.9529871282734131"
      ]
     },
     "execution_count": 307,
     "metadata": {},
     "output_type": "execute_result"
    }
   ],
   "source": [
    "rfclf.best_score_"
   ]
  },
  {
   "cell_type": "code",
   "execution_count": 308,
   "id": "1fe93f81",
   "metadata": {},
   "outputs": [],
   "source": [
    "best = rfclf.best_estimator_\n",
    "ypred = best.predict(xtest)"
   ]
  },
  {
   "cell_type": "code",
   "execution_count": 309,
   "id": "ea0f1b63",
   "metadata": {},
   "outputs": [
    {
     "data": {
      "text/plain": [
       "0.8756660746003553"
      ]
     },
     "execution_count": 309,
     "metadata": {},
     "output_type": "execute_result"
    }
   ],
   "source": [
    "best.score(xtest, ytest) #Here our model is overfitting."
   ]
  },
  {
   "cell_type": "code",
   "execution_count": null,
   "id": "94d54c58",
   "metadata": {},
   "outputs": [],
   "source": []
  },
  {
   "cell_type": "code",
   "execution_count": 312,
   "id": "924fd427",
   "metadata": {},
   "outputs": [],
   "source": [
    "from hyperopt import hp, fmin, tpe, STATUS_OK, Trials\n",
    "from sklearn.model_selection import cross_val_score"
   ]
  },
  {
   "cell_type": "code",
   "execution_count": 313,
   "id": "8363428b",
   "metadata": {},
   "outputs": [],
   "source": [
    "space = {'criterion': hp.choice('criterion', ['entropy', 'gini']),\n",
    "        'max_depth':hp.quniform('max_depth', 10,1200,10),\n",
    "        'max_features':hp.choice('max_features', ['auto', 'sqrt', 'log2', None]),\n",
    "        'min_samples_leaf':hp.uniform('min_samples_leaf', 0, 0.5),\n",
    "        'min_samples_split':hp.uniform('min_samples_split', 0, 1),\n",
    "        'n_estimators':hp.choice('n_estimators', [10,50,300,750])}"
   ]
  },
  {
   "cell_type": "code",
   "execution_count": 316,
   "id": "8f380c84",
   "metadata": {},
   "outputs": [],
   "source": [
    "def testing(space):\n",
    "    model = RandomForestClassifier(criterion=space['criterion'], max_depth=space['max_depth'],\n",
    "                               max_features=space['max_features'], min_samples_leaf=space['min_samples_leaf'],\n",
    "                              min_samples_split=space['min_samples_split'], n_estimators=space['n_estimators'])\n",
    "    \n",
    "    accuracy = cross_val_score(model, xtrain, ytrain, cv=5).mean()\n",
    "    return {\"loss\": -accuracy, \"status\": STATUS_OK}"
   ]
  },
  {
   "cell_type": "code",
   "execution_count": 324,
   "id": "c5e268cb",
   "metadata": {},
   "outputs": [
    {
     "name": "stdout",
     "output_type": "stream",
     "text": [
      "100%|█████████████████████████████████████████████| 400/400 [11:54<00:00,  1.79s/trial, best loss: -0.9154073251942286]\n",
      "Best: {'criterion': 1, 'max_depth': 370.0, 'max_features': 2, 'min_samples_leaf': 0.0009041858609398399, 'min_samples_split': 0.001549211191647271, 'n_estimators': 1}\n"
     ]
    }
   ],
   "source": [
    "# Initialize trials object\n",
    "trials = Trials()\n",
    "\n",
    "best = fmin(\n",
    "    fn=testing,\n",
    "    space = space, \n",
    "    algo=tpe.suggest, \n",
    "    max_evals=400, \n",
    "    trials=trials\n",
    ")\n",
    "\n",
    "print(\"Best: {}\".format(best))"
   ]
  },
  {
   "cell_type": "code",
   "execution_count": null,
   "id": "2b1c23a1",
   "metadata": {},
   "outputs": [],
   "source": []
  },
  {
   "cell_type": "code",
   "execution_count": 421,
   "id": "3d8d475c",
   "metadata": {},
   "outputs": [
    {
     "data": {
      "text/plain": [
       "SVC(C=522, degree=50)"
      ]
     },
     "execution_count": 421,
     "metadata": {},
     "output_type": "execute_result"
    }
   ],
   "source": [
    "#SVM\n",
    "from sklearn.svm import SVC\n",
    "svc = SVC(C = 522,kernel='rbf')\n",
    "svc.fit(x_train, y_train)"
   ]
  },
  {
   "cell_type": "code",
   "execution_count": 422,
   "id": "8d892541",
   "metadata": {},
   "outputs": [],
   "source": [
    "svc_pred = svc.predict(xtest)"
   ]
  },
  {
   "cell_type": "code",
   "execution_count": 423,
   "id": "83ec2906",
   "metadata": {},
   "outputs": [
    {
     "data": {
      "text/plain": [
       "0.9218472468916519"
      ]
     },
     "execution_count": 423,
     "metadata": {},
     "output_type": "execute_result"
    }
   ],
   "source": [
    "svc.score(xtest, ytest)"
   ]
  },
  {
   "cell_type": "code",
   "execution_count": null,
   "id": "83bc621e",
   "metadata": {},
   "outputs": [],
   "source": []
  },
  {
   "cell_type": "code",
   "execution_count": 438,
   "id": "6758bc54",
   "metadata": {},
   "outputs": [
    {
     "name": "stderr",
     "output_type": "stream",
     "text": [
      "D:\\Software\\Anaconda\\envs\\GPU\\lib\\site-packages\\xgboost\\sklearn.py:1224: UserWarning: The use of label encoder in XGBClassifier is deprecated and will be removed in a future release. To remove this warning, do the following: 1) Pass option use_label_encoder=False when constructing XGBClassifier object; and 2) Encode your labels (y) as integers starting with 0, i.e. 0, 1, 2, ..., [num_class - 1].\n",
      "  warnings.warn(label_encoder_deprecation_msg, UserWarning)\n"
     ]
    },
    {
     "name": "stdout",
     "output_type": "stream",
     "text": [
      "[10:39:04] WARNING: C:/Users/Administrator/workspace/xgboost-win64_release_1.5.1/src/learner.cc:1115: Starting in XGBoost 1.3.0, the default evaluation metric used with the objective 'binary:logistic' was changed from 'error' to 'logloss'. Explicitly set eval_metric if you'd like to restore the old behavior.\n"
     ]
    },
    {
     "data": {
      "text/plain": [
       "XGBClassifier(base_score=0.5, booster='gbtree', colsample_bylevel=1,\n",
       "              colsample_bynode=1, colsample_bytree=1, enable_categorical=False,\n",
       "              gamma=0, gpu_id=-1, importance_type=None,\n",
       "              interaction_constraints='', learning_rate=0.300000012,\n",
       "              max_delta_step=0, max_depth=6, min_child_weight=1, missing=nan,\n",
       "              monotone_constraints='()', n_estimators=100, n_jobs=16,\n",
       "              num_parallel_tree=1, predictor='auto', random_state=0,\n",
       "              reg_alpha=0, reg_lambda=1, scale_pos_weight=1, subsample=1,\n",
       "              tree_method='exact', validate_parameters=1, verbosity=None)"
      ]
     },
     "execution_count": 438,
     "metadata": {},
     "output_type": "execute_result"
    }
   ],
   "source": [
    "#XGBoost\n",
    "import xgboost as xgb\n",
    "xg = xgb.XGBClassifier()\n",
    "xg.fit(x_train, y_train)"
   ]
  },
  {
   "cell_type": "code",
   "execution_count": 439,
   "id": "d05cc502",
   "metadata": {},
   "outputs": [],
   "source": [
    "xg_pred = xg.predict(xtest)"
   ]
  },
  {
   "cell_type": "code",
   "execution_count": 440,
   "id": "84354bb3",
   "metadata": {},
   "outputs": [
    {
     "data": {
      "text/plain": [
       "0.9138543516873889"
      ]
     },
     "execution_count": 440,
     "metadata": {},
     "output_type": "execute_result"
    }
   ],
   "source": [
    "xg.score(xtest, ytest)"
   ]
  },
  {
   "cell_type": "code",
   "execution_count": null,
   "id": "38504b4c",
   "metadata": {},
   "outputs": [],
   "source": []
  },
  {
   "cell_type": "code",
   "execution_count": null,
   "id": "449fed23",
   "metadata": {},
   "outputs": [],
   "source": []
  }
 ],
 "metadata": {
  "kernelspec": {
   "display_name": "Python 3 (ipykernel)",
   "language": "python",
   "name": "python3"
  },
  "language_info": {
   "codemirror_mode": {
    "name": "ipython",
    "version": 3
   },
   "file_extension": ".py",
   "mimetype": "text/x-python",
   "name": "python",
   "nbconvert_exporter": "python",
   "pygments_lexer": "ipython3",
   "version": "3.8.12"
  }
 },
 "nbformat": 4,
 "nbformat_minor": 5
}
